{
 "cells": [
  {
   "cell_type": "markdown",
   "metadata": {
    "id": "Za7lau_enfci"
   },
   "source": [
    "# Neural Networks\n",
    "Noah Armsworthy\n",
    "September 2nd, 2022"
   ]
  },
  {
   "cell_type": "markdown",
   "metadata": {},
   "source": [
    "In this notebook I will create a build-able neural network classes and functions using only basic python, abstract classes, and numpy. I will also be graphing libraries to help visualize data and model performance. I will not be going too deep into the math of the functions, their derivatives and the back propagation chain rule but will try to share resources on those topics as they come up. "
   ]
  },
  {
   "cell_type": "code",
   "execution_count": 125,
   "metadata": {
    "id": "388qAKAfELQW"
   },
   "outputs": [],
   "source": [
    "#Importing libraries\n",
    "import numpy as np\n",
    "import matplotlib.pyplot as plt\n",
    "from keras.datasets import mnist"
   ]
  },
  {
   "cell_type": "markdown",
   "metadata": {},
   "source": [
    "There were some mathematic overflow issues using the MNIST database from keras, so I'm loading a pre-cleaned dataset below.\n",
    "\n",
    "The MNIST dataset contains tens of thousands of handwritten numbers from 0-9 in 28x28 pixel images. We're going to create a neural network that can effectively learn from these images and classify ones it has never seen.\n",
    "\n",
    "The dataset contains 60,000 training samples and 10,000 test samples."
   ]
  },
  {
   "cell_type": "code",
   "execution_count": 61,
   "metadata": {
    "colab": {
     "base_uri": "https://localhost:8080/"
    },
    "id": "ss98SEBLEFYF",
    "outputId": "397443ef-b658-4f02-9f1e-9877929de059"
   },
   "outputs": [
    {
     "name": "stdout",
     "output_type": "stream",
     "text": [
      "(60000, 28, 28) (60000,)\n",
      "(10000, 28, 28) (10000,)\n"
     ]
    }
   ],
   "source": [
    "'''X_train, y_train = (np.load(\"lib/MNIST/train.npz\")['arr_0'], np.load(\"lib/MNIST/train.npz\")['arr_1'])\n",
    "#X_train, y_train = (np.load(\"http://yann.lecun.com/exdb/mnist/train-images-idx3-ubyte.gz\")['arr_0'], np.load(\"http://yann.lecun.com/exdb/mnist/train-images-idx3-ubyte.gz\")['arr_1'])\n",
    "X_test, y_test = (np.load(\"lib/MNIST/test.npz\")['arr_0'], np.load(\"lib/MNIST/test.npz\")['arr_1'])\n",
    "\n",
    "\n",
    "\n",
    "#Here we can see the shapes of our dataset\n",
    "print(X_train.shape, y_train.shape)\n",
    "print(X_test.shape, y_test.shape)'''"
   ]
  },
  {
   "cell_type": "code",
   "execution_count": 126,
   "metadata": {},
   "outputs": [
    {
     "name": "stdout",
     "output_type": "stream",
     "text": [
      "(60000, 28, 28) (60000,)\n",
      "(10000, 28, 28) (10000,)\n"
     ]
    }
   ],
   "source": [
    "(X_train, y_train), (X_test, y_test) = mnist.load_data()\n",
    "#Here we can see the shapes of our dataset\n",
    "print(X_train.shape, y_train.shape)\n",
    "print(X_test.shape, y_test.shape)"
   ]
  },
  {
   "cell_type": "code",
   "execution_count": 127,
   "metadata": {
    "colab": {
     "base_uri": "https://localhost:8080/",
     "height": 282
    },
    "id": "h1CXqo6xEJW_",
    "outputId": "5d2c6185-c68b-4caa-fce8-25f7e949bcba"
   },
   "outputs": [
    {
     "data": {
      "image/png": "[encoded data removed]",
      "text/plain": [
       "<Figure size 640x480 with 1 Axes>"
      ]
     },
     "metadata": {},
     "output_type": "display_data"
    },
    {
     "name": "stdout",
     "output_type": "stream",
     "text": [
      "Target value: 5\n"
     ]
    }
   ],
   "source": [
    "'''\n",
    "A function to print the image of a given MNIST sample and it's target value.\n",
    "'''  \n",
    "def printDIGIT(data, target, index):\n",
    "    plt.imshow(data[index], cmap=plt.get_cmap('gray'))\n",
    "    plt.show()\n",
    "    print('Target value:', target[index])\n",
    "\n",
    "#Here we can get a look at the first training sample\n",
    "printDIGIT(X_train, y_train, 0)"
   ]
  },
  {
   "cell_type": "markdown",
   "metadata": {},
   "source": [
    "## (WIP) Cleaning data"
   ]
  },
  {
   "cell_type": "code",
   "execution_count": 121,
   "metadata": {},
   "outputs": [
    {
     "name": "stdout",
     "output_type": "stream",
     "text": [
      "Cleaned:\n",
      " [-0.42421296 -0.42421296 -0.42421296 -0.42421296 -0.42421296 -0.42421296\n",
      " -0.42421296 -0.42421296 -0.42421296 -0.42421296 -0.23328947  2.5796502\n",
      "  2.7960303   2.7960303   2.7960303   2.7960303   2.7960303   2.7451172\n",
      "  2.248716    1.1159033   0.1612858  -0.42421296 -0.42421296 -0.42421296\n",
      " -0.42421296 -0.42421296 -0.42421296 -0.42421296] t 5\n",
      "Original:\n",
      " [  0   0   0   0   0   0   0   0   0   0  15 236 253 253 253 253 253 249\n",
      " 210 121  46   0   0   0   0   0   0   0] t 5\n"
     ]
    }
   ],
   "source": [
    "testval = 6\n",
    "print('Cleaned:\\n', X_test[1][6], 't', y_test[1])\n",
    "print('Original:\\n', kX_test[6803][6], 't', ky_test[6803])\n",
    "#printDIGIT(X_train, y_train, testval)\n",
    "#printDIGIT(kX_train, ky_train, testval)"
   ]
  },
  {
   "cell_type": "code",
   "execution_count": 124,
   "metadata": {},
   "outputs": [
    {
     "name": "stdout",
     "output_type": "stream",
     "text": [
      "2.7960303\n",
      "[-0.42421296 -0.42421296 -0.42421296 -0.42421296 -0.42421296 -0.42421296\n",
      " -0.42421296 -0.42421296 -0.42421296 -0.42421296 -0.23328945  2.57965032\n",
      "  2.7960303   2.7960303   2.7960303   2.7960303   2.7960303   2.74511736\n",
      "  2.24871623  1.11590338  0.16128581 -0.42421296 -0.42421296 -0.42421296\n",
      " -0.42421296 -0.42421296 -0.42421296 -0.42421296]\n"
     ]
    }
   ],
   "source": [
    "test = ((253 - 0) / (253 - 0)) * (2.7960303 - (-0.42421296)) + (-0.42421296)\n",
    "print(test)\n",
    "\n",
    "newM = ((X_test[6803] - 0) / (253 - 0)) * (2.7960303 - (-0.42421296)) + (-0.42421296)\n",
    "print(newM[6])"
   ]
  },
  {
   "cell_type": "code",
   "execution_count": 96,
   "metadata": {},
   "outputs": [],
   "source": [
    "#fives = [x for x in y_test if x == 5]\n",
    "#print(len(fives))\n",
    "\n",
    "fives_c = []\n",
    "fives_m = []\n",
    "\n",
    "for i in range(0, len(y_test)):\n",
    "    if y_test[i] == 5:\n",
    "        fives_c.append(i)\n",
    "    if ky_test[i] == 5:\n",
    "        fives_m.append(i)"
   ]
  },
  {
   "cell_type": "code",
   "execution_count": 118,
   "metadata": {},
   "outputs": [
    {
     "name": "stdout",
     "output_type": "stream",
     "text": [
      "1 6803\n"
     ]
    },
    {
     "data": {
      "image/png": "[encoded data removed]",
      "text/plain": [
       "<Figure size 200x200 with 2 Axes>"
      ]
     },
     "metadata": {},
     "output_type": "display_data"
    },
    {
     "data": {
      "text/plain": [
       "\"for i in range(0, len(fives_m)):\\n    print(i)\\n    fig, (ax1, ax2) = plt.subplots(1,2, figsize=(2,2))\\n    ax1.imshow(X_test[fives_c[0]], cmap=plt.get_cmap('gray'))\\n    ax2.imshow(kX_test[fives_m[i]], cmap=plt.get_cmap('gray'))\\n    plt.show()\""
      ]
     },
     "execution_count": 118,
     "metadata": {},
     "output_type": "execute_result"
    }
   ],
   "source": [
    "print(fives_c[0], fives_m[612])\n",
    "fig, (ax1, ax2) = plt.subplots(1,2, figsize=(2,2))\n",
    "ax1.imshow(X_test[fives_c[0]], cmap=plt.get_cmap('gray'))\n",
    "ax2.imshow(kX_test[fives_m[612]], cmap=plt.get_cmap('gray'))\n",
    "plt.show()\n",
    "'''for i in range(0, len(fives_m)):\n",
    "    print(i)\n",
    "    fig, (ax1, ax2) = plt.subplots(1,2, figsize=(2,2))\n",
    "    ax1.imshow(X_test[fives_c[0]], cmap=plt.get_cmap('gray'))\n",
    "    ax2.imshow(kX_test[fives_m[i]], cmap=plt.get_cmap('gray'))\n",
    "    plt.show()'''"
   ]
  },
  {
   "cell_type": "markdown",
   "metadata": {},
   "source": [
    "## Neural Network architecture \n",
    "The NN we are going to make today is referred to as a Multi-Layer Perceptron, a \"perceptron\" being a single neuron or \"node\". The benefit of compounding multiple layers of nodes is so that we can model difficult problems by sequentially adding layers of complexity to the solution as we build it. Nodes will take in weighted inputs and apply its activation function to calculate which neurons are 'activated' and the strength of its contribution.\n",
    "\n",
    "Grant Sanderson does an excellent job explaining the full fundamentals of Neural Networks here: https://www.3blue1brown.com/lessons/neural-networks <br>\n",
    "This is another great resource for NN architecture: https://machinelearningmastery.com/neural-networks-crash-course/"
   ]
  },
  {
   "cell_type": "markdown",
   "metadata": {
    "id": "xXeXQShxndZC"
   },
   "source": [
    "# Activation functions\n",
    "The idea behind the activation functions of the nodes of a neural network is the ability to transform the original input of a linear combination of all the relevant variables within the data into a non-linear function that best describes the predictions, regression or classification.\n",
    "\n",
    "Three popular functions for doing this are the Logistic (Sigmoid), Hyperbolic Tangent (Tanh) and, more recently, Rectified Linear Unit (ReLU) functions. If you look at the graphs below and imagine they are the shape outline for the \"puzzle pieces\" of our network, you can see how we might create some 'wiggle' in our results. 'Wiggle' meaning our non-linearity. :) "
   ]
  },
  {
   "cell_type": "code",
   "execution_count": 5,
   "metadata": {},
   "outputs": [
    {
     "data": {
      "image/png": "[encoded data removed]",
      "text/plain": [
       "<Figure size 1000x300 with 3 Axes>"
      ]
     },
     "metadata": {},
     "output_type": "display_data"
    }
   ],
   "source": [
    "#Visualizing the activation functions\n",
    "titles = [\"Sigmoid\", \"Tanh\", \"ReLU\"]\n",
    "xrange = np.arange(-10, 10, 0.01)\n",
    "functions = (1/(1 + np.exp(-xrange)), np.tanh(xrange), np.maximum(0.0, xrange))\n",
    "fig, ax = plt.subplots(1, 3, figsize=(10,3))\n",
    "for i in range(0, len(ax)):\n",
    "    ax[i].set_title(titles[i])\n",
    "    ax[i].plot(functions[i])\n",
    "fig.suptitle(\"Activation Functions\")\n",
    "fig.tight_layout()"
   ]
  },
  {
   "cell_type": "markdown",
   "metadata": {},
   "source": [
    "The activation functions themselves create an asymptote(s) that contain the data within a threshold. Sigmoid is between [0.0,1.0] and Tanh [-1.0,1.0]. **All** the values given are scaled to fit within these constraints (even if they are already within) so that larger values will be near the thresholds and smaller ones closer to the middle. ReLU only corrects values below zero to 0. This lets our strong positive weights stick around for sensitivity. It also corrects the vanishing gradient problem, so it is the very useful for robust deep networks. \n",
    "\n",
    "Additional information: https://machinelearningmastery.com/rectified-linear-activation-function-for-deep-learning-neural-networks/"
   ]
  },
  {
   "cell_type": "code",
   "execution_count": 6,
   "metadata": {
    "id": "RqFQPjG-nxOg"
   },
   "outputs": [],
   "source": [
    "'''Abstract method library for activations to maintain structure signature \n",
    "and allow for easy forward and backward calls'''\n",
    "import abc\n",
    "\n",
    "class Activations(metaclass=abc.ABCMeta):\n",
    "    @abc.abstractmethod\n",
    "    def forward(self, x):\n",
    "        pass\n",
    "\n",
    "    @abc.abstractmethod\n",
    "    def backward(self, grad, original_input):\n",
    "        pass\n",
    "\n",
    "'''\n",
    "Sigmoid https://towardsdatascience.com/derivative-of-the-sigmoid-function-536880cf918e\n",
    "'''\n",
    "class Sigmoid(Activations):\n",
    "    def forward(self, x):\n",
    "        return 1/(1 + np.exp(-x))\n",
    "    \n",
    "    def backward(self, grad, original_input):\n",
    "        x = self.forward(original_input)\n",
    "        return grad * ( x * (1 - x))\n",
    "    \n",
    "    def __call__(self, x, mode=None):\n",
    "        return self.forward(x)\n",
    "'''\n",
    "Tanh https://blogs.cuit.columbia.edu/zp2130/derivative_of_tanh_function/\n",
    "'''\n",
    "class Tanh(Activations):\n",
    "    def forward(self, x):\n",
    "        return np.tanh(x)\n",
    "    \n",
    "    def backward(self, grad, original_input):\n",
    "        return grad * (1 - np.tanh(original_input)**2)\n",
    "    \n",
    "    def __call__(self, x, mode=None):\n",
    "        return self.forward(x)\n",
    "\n",
    "'''\n",
    "ReLU https://deepai.org/machine-learning-glossary-and-terms/relu\n",
    "'''\n",
    "class ReLU(Activations):\n",
    "    def forward(self, x):\n",
    "        return np.maximum(0.0,x)\n",
    "\n",
    "    def backward(self, grad, original_input):\n",
    "        x = original_input\n",
    "        return grad * (x>0.0)\n",
    "\n",
    "    #Allows for easy calling forward using only ReLU(x)\n",
    "    def __call__(self, x, mode=None):\n",
    "        return self.forward(x)"
   ]
  },
  {
   "cell_type": "code",
   "execution_count": 56,
   "metadata": {},
   "outputs": [
    {
     "name": "stdout",
     "output_type": "stream",
     "text": [
      "Original Input:\n",
      " [[  0.8   1.5  15. ]\n",
      " [ -0.2  -5.  -15. ]]\n",
      "Sigmoid output scales all values to within [0, 1]:\n",
      " [[0.69   0.8176 1.    ]\n",
      " [0.4502 0.0067 0.    ]]\n",
      "Tanh output scales all values to within [-1, 1]:\n",
      " [[ 0.664   0.9051  1.    ]\n",
      " [-0.1974 -0.9999 -1.    ]]\n",
      "ReLU output only sets negative values to 0:\n",
      " [[ 0.8  1.5 15. ]\n",
      " [ 0.   0.   0. ]]\n"
     ]
    }
   ],
   "source": [
    "'''We can easily take a look at how these activation functions would affect incoming data.\n",
    "For our sample data:\n",
    "First row we have a value within [0.0,1.0], a value slightly larger than 1 and a value much larger than 1.\n",
    "Second row we have a value within [-1.0,1.0], a value slightly less than 0.0 and a value much less than 0.0 '''\n",
    "x = np.array([[0.8, 1.5, 15.0], \n",
    "              [-0.2, -5.0, -15.0]])\n",
    "\n",
    "print('Original Input:\\n', x)\n",
    "#The empty parenthesis here is to initialize the class, then (x) calls the forward function. \n",
    "print('Sigmoid output scales all values to within [0, 1]:\\n', np.array_str(Sigmoid()(x), precision=4, suppress_small=True))\n",
    "print('Tanh output scales all values to within [-1, 1]:\\n', np.array_str(Tanh()(x), precision=4, suppress_small=True))\n",
    "print('ReLU output only sets negative values to 0:\\n', np.array_str(ReLU()(x), precision=4, suppress_small=True))"
   ]
  },
  {
   "cell_type": "markdown",
   "metadata": {},
   "source": [
    "As you can see, for Sigmoid and Tanh, the value within the constraints is still altered to closer to the mid-point so that the values scaled down from outside the constraints can be represented by the higher value close to the asymptote. "
   ]
  },
  {
   "cell_type": "markdown",
   "metadata": {
    "id": "ybOOlqV2Xiwk"
   },
   "source": [
    "# SoftMax"
   ]
  },
  {
   "cell_type": "code",
   "execution_count": 7,
   "metadata": {
    "id": "9OobnbxTDKqg"
   },
   "outputs": [],
   "source": [
    "#Soft max takes in a sample of values and scales them to\n",
    "#Values between 0 and 1, making them interpretable as probabilities\n",
    "def softMax(x):\n",
    "  #Currently made to accept an np array of arrays to process mutliple samples\n",
    "  return np.exp(x)/np.sum(np.exp(x), axis=1, keepdims=True) "
   ]
  },
  {
   "cell_type": "code",
   "execution_count": 8,
   "metadata": {
    "colab": {
     "base_uri": "https://localhost:8080/"
    },
    "id": "qyLY3IIdCUHP",
    "outputId": "389a7458-0d8e-48fd-fc75-a47c2820e80a"
   },
   "outputs": [
    {
     "name": "stdout",
     "output_type": "stream",
     "text": [
      "Result after a ReLU:\n",
      " [[ 2.   0.8]\n",
      " [ 0.  10. ]]\n",
      "Shifted:\n",
      " [[  0.   -1.2]\n",
      " [-10.    0. ]]\n",
      "SoftMax returns:\n",
      " [[7.68524783e-01 2.31475217e-01]\n",
      " [4.53978687e-05 9.99954602e-01]]  \n",
      " Each row (sample) sums up to:\n",
      " [[1.]\n",
      " [1.]] AKA 100%\n",
      "Shifted Values don't change the result of softMax:\n",
      " [[7.68524783e-01 2.31475217e-01]\n",
      " [4.53978687e-05 9.99954602e-01]]\n"
     ]
    }
   ],
   "source": [
    "#Testing\n",
    "x = np.array([[2.0,   0.8], \n",
    "              [-0.4,  10.0]])\n",
    "\n",
    "#ReLU will convert negative values to 0.0\n",
    "relu = ReLU()\n",
    "relX = relu(x)\n",
    "print('Result after a ReLU:\\n', relX)\n",
    "\n",
    "#While implementing softmax, you can shift your input. \n",
    "#This does not affect the result of the softmax operation and improves numerical stability.\n",
    "shiftedX = relX - np.max(relX, axis=1, keepdims=True)\n",
    "print('Shifted:\\n', shiftedX)\n",
    "sM = softMax(relX)\n",
    "print('SoftMax returns:\\n',sM, ' \\n Each row (sample) sums up to:\\n', np.sum(sM, axis=1, keepdims=True), 'AKA 100%')\n",
    "sM = softMax(shiftedX)\n",
    "print('Shifted Values don\\'t change the result of softMax:\\n',sM)"
   ]
  },
  {
   "cell_type": "markdown",
   "metadata": {
    "id": "P6MvVdxiXlgh"
   },
   "source": [
    "## Cross Entropy Loss\n",
    "Takes in probabilities from the softmax. CE will measure the distance from the target values.\n",
    "np.log uses the natural logarithm of base $e$."
   ]
  },
  {
   "cell_type": "markdown",
   "metadata": {
    "id": "TBGTq0A-c1WX"
   },
   "source": [
    "### Entropy \n",
    "measured randomness\n",
    "(higher = less certainty of the pick)\n",
    "https://towardsdatascience.com/cross-entropy-loss-function-f38c4ec8643e"
   ]
  },
  {
   "cell_type": "code",
   "execution_count": 9,
   "metadata": {
    "id": "Yy11kq68XoSz"
   },
   "outputs": [],
   "source": [
    "def entropy(x):\n",
    "  return -np.sum(x * np.log(x), axis=1, keepdims=True)"
   ]
  },
  {
   "cell_type": "code",
   "execution_count": 58,
   "metadata": {
    "colab": {
     "base_uri": "https://localhost:8080/"
    },
    "id": "f96RdrYboAl6",
    "outputId": "1e478f09-f910-4ea6-fda5-918e51dd4796"
   },
   "outputs": [
    {
     "name": "stdout",
     "output_type": "stream",
     "text": [
      "Entropy value between the 2 options 1.0% and 99.0% : 0.056001534354847345\n",
      "Entropy value between the 2 options 20.0% and 80.0% : 0.5004024235381879\n",
      "Entropy value between the 2 options 50.0% and 50.0% : 0.6931471805599453\n",
      "Entropy value between 4 options, each with 25% likelihood : 1.3862943611198906\n"
     ]
    }
   ],
   "source": [
    "'''When there is a more obviously occurring winner\n",
    "    ie. 10% vs 90%, entropy will be low because it's likely to choose the 90% term.\n",
    "    In a larger collection of close to equally weighed options, entropy is high because it is hard to guess which option will be selected. (Greater uncertainty)\n",
    "'''\n",
    "a = [[0.01, 0.99],[0.2, 0.8], [0.5, 0.5]]\n",
    "entropyA = entropy(a)\n",
    "for i in range(0, len(a)):\n",
    "  print(f\"Entropy value between the 2 options {a[i][0]*100}% and {a[i][1]*100}% : {entropyA[i][0]}\")\n",
    "\n",
    "#With more options with relatively even spread, we can see even higher entropy values\n",
    "print(f\"Entropy value between 4 options, each with 25% likelihood : {entropy([[0.25, 0.25, 0.25, 0.25]])[0][0]}\")"
   ]
  },
  {
   "cell_type": "code",
   "execution_count": 11,
   "metadata": {
    "colab": {
     "base_uri": "https://localhost:8080/"
    },
    "id": "F4PjBz8gnvG7",
    "outputId": "c7bc2cf3-4079-40a3-cc3b-476629f2835d"
   },
   "outputs": [
    {
     "name": "stdout",
     "output_type": "stream",
     "text": [
      "Returned probabilities from above:\n",
      "[76.8525% , 23.1475%]\n",
      "[0.0045% , 99.9955%]\n",
      "Entropy by row (sample):\n",
      " [[0.541053]\n",
      " [0.000499]]\n"
     ]
    }
   ],
   "source": [
    "#Our values from above\n",
    "print('Returned probabilities from above:')\n",
    "for row in sM:\n",
    "  print(\"[{:.4f}% , {:.4f}%]\".format(row[0]*100, row[1]*100))\n",
    "print('Entropy by row (sample):\\n', np.array_str(entropy(sM), precision=6, suppress_small=True))"
   ]
  },
  {
   "cell_type": "code",
   "execution_count": 12,
   "metadata": {
    "colab": {
     "base_uri": "https://localhost:8080/"
    },
    "id": "AvzF3zrBd2s4",
    "outputId": "1c2ca29a-c3e4-4d3d-ced3-b6f4b15e6842"
   },
   "outputs": [
    {
     "name": "stdout",
     "output_type": "stream",
     "text": [
      "Mock one-hot targets (1 represents the correct selection):\n",
      " [[0 1]\n",
      " [1 0]]\n",
      "When log probabilities are multiplied by the one-hot targets we get\n",
      " [[ 0.          1.46328247]\n",
      " [10.0000454   0.        ]]\n",
      "Which means the loss per sample is:\n",
      " [[ 1.4633]\n",
      " [10.    ]]\n"
     ]
    }
   ],
   "source": [
    "def entropyLoss(x, t):\n",
    "  return -np.sum(t * np.log(sM),  axis=1, keepdims=True)\n",
    "\n",
    "#Mock targets in that are one-hot encoded\n",
    "tWrong = np.array([[0,1], [1,0]])\n",
    "print('Mock one-hot targets (1 represents the correct selection):\\n', tWrong)\n",
    "print('When log probabilities are multiplied by the one-hot targets we get\\n', tWrong * -np.log(sM))\n",
    "print('Which means the loss per sample is:\\n', np.array_str(entropyLoss(sM, tWrong), precision=4, suppress_small=True))"
   ]
  },
  {
   "cell_type": "markdown",
   "metadata": {
    "id": "2V0p6ZEhuPVj"
   },
   "source": [
    "For both samples, we set the target as the value with the lowest percentage of likelihood, meaning the most incorrect choice it could be. The difference in the loss values is a degree of how wrong we were based on what was expected from the percentages above.\n",
    "\n",
    "If we were to have targets align with what our data says it more likely, we would see low loss numbers:"
   ]
  },
  {
   "cell_type": "code",
   "execution_count": 13,
   "metadata": {
    "colab": {
     "base_uri": "https://localhost:8080/"
    },
    "id": "jiZLxEWzuxz8",
    "outputId": "6b3ef202-7aa1-444c-d578-98d965eddc63"
   },
   "outputs": [
    {
     "name": "stdout",
     "output_type": "stream",
     "text": [
      "Target aligning with highest percentage means the loss per sample is:\n",
      " [[0.2632825]\n",
      " [0.0000454]]\n"
     ]
    }
   ],
   "source": [
    "tRight = np.array([[1,0], [0,1]])\n",
    "print('Target aligning with highest percentage means the loss per sample is:\\n', np.array_str(entropyLoss(sM, tRight), precision=7, suppress_small=True))"
   ]
  },
  {
   "cell_type": "markdown",
   "metadata": {},
   "source": [
    "**WIP ^^ needs explanation on 'cross' part of cross entropy*\n",
    "Probably need to go over the backwards pass before this too. cri\n",
    "\n",
    "Now we can group these functions into our activation structure and test that it is indeed returning what's expected."
   ]
  },
  {
   "cell_type": "code",
   "execution_count": 14,
   "metadata": {},
   "outputs": [
    {
     "name": "stdout",
     "output_type": "stream",
     "text": [
      "[[ 2.   0.8]\n",
      " [-0.4 10. ]]\n",
      "No targets given(Probabilities): \n",
      " [[0.7685248 0.2314752]\n",
      " [0.0000304 0.9999696]]\n",
      "Targets given(Softmax Cross E Loss): \n",
      " [ 1.46328247 10.40003043]\n"
     ]
    }
   ],
   "source": [
    "'''https://pytorch.org/docs/stable/generated/torch.nn.CrossEntropyLoss.html'''\n",
    "class SoftMaxCrossLoss(Activations):\n",
    "    def __init__(self):\n",
    "        self.probs = None\n",
    "        self.y = None\n",
    "    \n",
    "    def forward(self, x, y=None):\n",
    "        #y = none means we are in testing mode, there is no target\n",
    "        # Having a y would mean we are in training mode\n",
    "        \n",
    "        #Shifting our x values for numerical stability\n",
    "        shifted_x = x - np.max(x, axis=1, keepdims=True)\n",
    "        \n",
    "        #Storing the probabilities\n",
    "        self.probs = np.exp(shifted_x) / np.sum(np.exp(shifted_x), axis=1, keepdims=True)\n",
    "        #print('Probabilities of the samples : ', np.array_str(self.probs, precision=7, suppress_small=True))\n",
    "        \n",
    "        if y is None:\n",
    "            #print('I know Im testing, this should be probs:')\n",
    "            #Here we are simply returning probabilities to make an prediction \n",
    "            return self.probs\n",
    "        else:\n",
    "            #print('Im returning loss now')\n",
    "            self.y = y\n",
    "            #Returning the total loss of each sample (row) by summing the columns\n",
    "            return -1 * np.sum(self.y * np.log(self.probs), axis=1)\n",
    "        \n",
    "    def backward(self, grad, original_input):\n",
    "        return (self.probs - self.y) * grad\n",
    "    \n",
    "    def __call__(self, x, y=None, mode=None):\n",
    "        return self.forward(x,y)\n",
    "    \n",
    "print(x)\n",
    "softMCE = SoftMaxCrossLoss()\n",
    "#Not giving targets will return probabilities\n",
    "print('No targets given(Probabilities): \\n',np.array_str(softMCE(x), precision=7, suppress_small=True))\n",
    "print('Targets given(Softmax Cross E Loss): \\n',softMCE(x, y=tWrong))"
   ]
  },
  {
   "cell_type": "markdown",
   "metadata": {},
   "source": [
    "## Layers class for the layers of the neural network."
   ]
  },
  {
   "cell_type": "code",
   "execution_count": 15,
   "metadata": {},
   "outputs": [],
   "source": [
    "class Layers(metaclass=abc.ABCMeta):\n",
    "    @abc.abstractmethod\n",
    "    def forward(self,x):\n",
    "        return\n",
    "    \n",
    "    @abc.abstractmethod\n",
    "    def backward(self, grad, original_input):\n",
    "        return\n",
    "\n",
    "'''Fully Connected Layer. Linear combination of the inputs: w0x0 + w1x1 + ...+ wnxn + b for n number of weights, and b bias.'''\n",
    "class AffineLayer(Layers):\n",
    "    def __init__(self, input_dim, hidden_units):\n",
    "        ran = np.sqrt(1/input_dim)\n",
    "        \n",
    "                #Initializing the weights and bias, in that order\n",
    "        self.parameters = [np.random.uniform(-ran,ran,(hidden_units,input_dim)),\n",
    "                           np.random.uniform(-ran,ran,hidden_units)]\n",
    "        \n",
    "        self.grads = [np.zeros_like(self.parameters[0]),np.zeros_like(self.parameters[1])]\n",
    "        \n",
    "    def forward(self, x):\n",
    "        #print('All params:',self.parameters)\n",
    "        #print('W\\'s transposed:',self.parameters[0].T)\n",
    "        #print('Given x:',x)\n",
    "        #Multiplies all x values by their respective weights, then adds them by row\n",
    "        wXSum = np.matmul(x, self.parameters[0].T)\n",
    "        #print('Applied weights:',wXSum)\n",
    "        #print('Adding b:',wXSum + self.parameters[1])\n",
    "\n",
    "        #Adding up all wx + b values\n",
    "        return wXSum + self.parameters[1]\n",
    "    \n",
    "    def backward(self, grad, original_input):\n",
    "        #Using the chain rule, multiply the incoming gradient with the current gradient\n",
    "        #Storing Partial Derivatives of Y = Xw + b. Multiplied by incoming grad\n",
    "        #dw = original input\n",
    "        self.grads[0] = np.matmul(grad.T, original_input)\n",
    "        #db = 1\n",
    "        self.grads[1] = grad\n",
    "        \n",
    "        #Derivative of linear combination w.r.t the original input\n",
    "        #dy/dx = w\n",
    "        grad_x = np.dot(grad, self.parameters[0]) #Order here matters\n",
    "        return grad_x\n",
    "    \n",
    "    def __call__(self, x, mode=None):\n",
    "        return self.forward(x)\n",
    "\n"
   ]
  },
  {
   "cell_type": "code",
   "execution_count": 16,
   "metadata": {
    "scrolled": false
   },
   "outputs": [
    {
     "name": "stdout",
     "output_type": "stream",
     "text": [
      "Starting parameters: [array([[-0.31156657,  0.28845647,  0.09650522, -0.01944638, -0.16100585],\n",
      "       [ 0.1380291 ,  0.05876349, -0.29063834, -0.43843686,  0.30645229]]), array([ 0.09901376, -0.38154728])]\n",
      "[-0.22893896 -1.21939216]\n"
     ]
    }
   ],
   "source": [
    "#Self testing for understanding\n",
    "'''Each hidden unit generates its own weights the length of our given input dimensions and a bias.\n",
    "Those input dimensions are the number of variables in the given array x. \n",
    "Each value within x is multiplied by the weight of the same index (for all hidden units), then\n",
    "added up to a single value. We then add the bias value to that value.'''\n",
    "x2 = np.array([1, 2, 3, 4, 5])\n",
    "aLayer = AffineLayer(input_dim=5, hidden_units=2)\n",
    "print('Starting parameters:',aLayer.parameters)\n",
    "print(aLayer(x2))"
   ]
  },
  {
   "cell_type": "code",
   "execution_count": 17,
   "metadata": {},
   "outputs": [],
   "source": [
    "#Dropout layer https://machinelearning.wtf/terms/inverted-dropout/\n",
    "class Dropout(Layers):\n",
    "  #p = keep probability\n",
    "  #layer that keeps weights with probability p. \n",
    "    def __init__(self,p):\n",
    "        self.p = p\n",
    "        self.mask = None\n",
    "    \n",
    "    def forward(self,x,mode=None):\n",
    "        #We only dropout during training\n",
    "        if mode == 'train':\n",
    "            #Shape of the incoming array, random values between 0-1\n",
    "            if len(x.shape) > 1:\n",
    "              self.mask = np.random.rand(x.shape[0], x.shape[1])\n",
    "            else:\n",
    "              self.mask = np.random.rand(x.shape[0])\n",
    "            #print(\"Randomly generated values as the shape of input: \\n{}\".format(self.mask))\n",
    "\n",
    "            #Convert random value matrix to binary w.r.t keep probability\n",
    "            #Keep values less than p (set to 1), discard those above (set to 0)\n",
    "            self.mask = self.mask < self.p\n",
    "            #print(\"Mask after converting to binary with rule < {}(p value) : \\n{}\".format(self.p, self.mask))\n",
    "\n",
    "            #Multiply neurons by the keep matrix\n",
    "            x = np.multiply(x, self.mask)\n",
    "        \n",
    "            #Scale values by p for inverted dropout during training\n",
    "            #1e-7 to prevent division by 0\n",
    "            x = x / ((1 - self.p) + 1e-7)\n",
    "        #print(\"Dropout forward result:\\n{}\".format(x))\n",
    "        return x\n",
    "    \n",
    "    def backward(self, grad,original_input):\n",
    "        #Want to use the same mask as before to shut down the same neurons\n",
    "        #We only use backward pass in training.\n",
    "        grad_x = (grad * self.mask) / ((1 - self.p) + + 1e-7)\n",
    "\n",
    "        #return gradient with respect to the original input to this layer\n",
    "        return grad_x   \n",
    "    \n",
    "    def __call__(self,x,mode='test'):\n",
    "        return self.forward(x,mode)"
   ]
  },
  {
   "cell_type": "markdown",
   "metadata": {},
   "source": [
    "## Gradient Descent"
   ]
  },
  {
   "cell_type": "markdown",
   "metadata": {},
   "source": [
    "### Stochastic GD"
   ]
  },
  {
   "cell_type": "code",
   "execution_count": 18,
   "metadata": {},
   "outputs": [],
   "source": [
    "class Optimizer(metaclass=abc.ABCMeta):\n",
    "    @abc.abstractmethod\n",
    "    def step(self, layer):\n",
    "        return\n",
    "    \n",
    "class SGD(Optimizer):\n",
    "    def __init__(self, momentum, lr):\n",
    "        #The factor at which the momentum increases each time\n",
    "        self.momentum = momentum\n",
    "        \n",
    "        #Learning rate\n",
    "        self.lr = lr\n",
    "        \n",
    "        #Momentum seperately for each layer\n",
    "        self.momenDict = {}\n",
    "        \n",
    "    def step(self, layer):\n",
    "        #Storing layers in their dictionary of momentums\n",
    "        if layer not in self.momenDict.keys():\n",
    "            self.momenDict[layer] = {}\n",
    "            #bias momentum\n",
    "            self.momenDict[layer]['bM'] = 0\n",
    "            #weight momentum\n",
    "            self.momenDict[layer]['wM'] = 0\n",
    "            \n",
    "        #The avg of the gradients stored for b\n",
    "        biasGradient = np.sum(layer.grads[1], axis=0) / len(layer.grads[1])\n",
    "        \n",
    "        #Will start off by adding 0, then will build momentum each step\n",
    "        self.momenDict[layer]['bM'] = biasGradient + (self.momenDict[layer]['bM'] * self.momentum)\n",
    "        self.momenDict[layer]['wM'] = layer.grads[0] + (self.momenDict[layer]['wM'] * self.momentum)\n",
    "        \n",
    "        #Implementing the step, in the negative GD direction (descent)\n",
    "        layer.parameters[1] -= self.momenDict[layer]['bM'] * self.lr\n",
    "        layer.parameters[0] -= self.momenDict[layer]['wM'] * self.lr"
   ]
  },
  {
   "cell_type": "code",
   "execution_count": 19,
   "metadata": {},
   "outputs": [
    {
     "name": "stdout",
     "output_type": "stream",
     "text": [
      "{'layername': {'bM': 0, 'wM': 0}}\n"
     ]
    }
   ],
   "source": [
    "dictT = {}\n",
    "dictT['layername'] = {}\n",
    "dictT['layername']['bM'] = 0\n",
    "            #weight momentum\n",
    "dictT['layername']['wM'] = 0\n",
    "print(dictT)"
   ]
  },
  {
   "cell_type": "markdown",
   "metadata": {},
   "source": [
    "## Implementing a Fully Connected Neural Network"
   ]
  },
  {
   "cell_type": "code",
   "execution_count": 159,
   "metadata": {},
   "outputs": [
    {
     "name": "stdout",
     "output_type": "stream",
     "text": [
      "(60000, 784)\n",
      "[[0. 0. 0. 0. 0. 1. 0. 0. 0. 0.]\n",
      " [1. 0. 0. 0. 0. 0. 0. 0. 0. 0.]\n",
      " [0. 0. 0. 0. 1. 0. 0. 0. 0. 0.]]\n",
      "(10000, 784)\n",
      "[[0. 0. 0. 0. 0. 0. 0. 1. 0. 0.]\n",
      " [0. 0. 1. 0. 0. 0. 0. 0. 0. 0.]\n",
      " [0. 1. 0. 0. 0. 0. 0. 0. 0. 0.]]\n"
     ]
    }
   ],
   "source": [
    "#Data Preparation\n",
    "def prepareMNIST(data, targets):\n",
    "    #Containing the data within a specific range for numerical stability (prevent division by 0)\n",
    "    #newData = ((data - 0) / (253 - 0)) * (2.7960303 - (-0.42421296)) + (-0.42421296)\n",
    "    newData = ((data - 0) / (253 - 0)) * (4.6 - (-0.64)) + (-0.64)\n",
    "    #Data will be a certain amount of images of 28 x 28 pixels\n",
    "    #We want to combine all the pixels into 1 vector\n",
    "    newData = newData.reshape(newData.shape[0], 784)\n",
    "    \n",
    "    #Next we need to change our targets into one hot vectors of size 10 (the number drawings are from 0-9)\n",
    "    #For all sample indices in the sample range, at the index location of the target place a 1\n",
    "    #numpy allows us to us a range of numbers for indices reference\n",
    "    temp = np.zeros((len(targets), 10))\n",
    "    temp[np.arange(targets.size), targets] = 1\n",
    "    newTargets = temp\n",
    "    \n",
    "    return newData, newTargets\n",
    "\n",
    "#Preparing data\n",
    "train_data, train_targets = prepareMNIST(X_train, y_train)\n",
    "print(train_data.shape)\n",
    "print(train_targets[:3])\n",
    "\n",
    "test_data, test_targets = prepareMNIST(X_test, y_test)\n",
    "print(test_data.shape)\n",
    "print(test_targets[:3])\n"
   ]
  },
  {
   "cell_type": "code",
   "execution_count": 160,
   "metadata": {},
   "outputs": [],
   "source": [
    "class FCNN:\n",
    "    def __init__(self, layers):\n",
    "        self.layers = layers\n",
    "        self.original_inputs = []\n",
    "        \n",
    "    def forward(self, x, y=None, mode='test'):\n",
    "        #Storing the initial inputs, keeps each input to each layer in order\n",
    "        self.original_inputs = [x.copy()]\n",
    "\n",
    "        for i in range(0, len(self.layers)):\n",
    "            #print(len(self.layers))\n",
    "            #print(self.layers[i])\n",
    "            #The last layer calculates loss so we hand it y targets.\n",
    "            if i == (len(self.layers) - 1):\n",
    "                #print('HERE', self.layers[i])\n",
    "                self.original_inputs.append(self.layers[i](self.original_inputs[-1], y=y, mode=mode))\n",
    "            else:\n",
    "                #Each layer gets the most recent output as their input (Starts with x added above)\n",
    "                self.original_inputs.append(self.layers[i](self.original_inputs[-1], mode))\n",
    "        \n",
    "        #The last added input/output is our result (loss or prediction)\n",
    "        return self.original_inputs[-1]\n",
    "        \n",
    "    def backward(self):\n",
    "        #Pop the loss value from the end of our inputs\n",
    "        loss = self.original_inputs.pop()\n",
    "        \n",
    "        #Starting from the loss function, L=1 for backprop\n",
    "        grad = 1 \n",
    "        \n",
    "        #Looping backwards through the layers, applying the chain rule\n",
    "        #Python backwards loop range(inclusive start, exclusive end, step)\n",
    "        for i in range(len(self.layers)-1, -1, -1):\n",
    "            #print('Layer:', self.layers[i])\n",
    "            origin = self.original_inputs.pop()\n",
    "            \n",
    "            grad = self.layers[i].backward(grad, origin)\n",
    "            \n",
    "        #Return grad w.r.t input only\n",
    "        return grad\n",
    "    \n",
    "    def __call__(self, x, y=None, mode='test'):\n",
    "        return self.forward(x, y, mode)\n",
    "        "
   ]
  },
  {
   "cell_type": "code",
   "execution_count": 184,
   "metadata": {
    "scrolled": true
   },
   "outputs": [],
   "source": [
    "momentum = 0.95\n",
    "lr = 0.001\n",
    "epochs = 30\n",
    "batchSize = 100\n",
    "testSize = 5\n",
    "myNN = FCNN([AffineLayer(784, 32), Sigmoid(), AffineLayer(32, 10), SoftMaxCrossLoss()])\n",
    "optimizer = SGD(momentum, lr) "
   ]
  },
  {
   "cell_type": "code",
   "execution_count": 185,
   "metadata": {},
   "outputs": [
    {
     "name": "stdout",
     "output_type": "stream",
     "text": [
      "Loss at Epoch 1/30:0.3659744760708311\n",
      "Loss at Epoch 2/30:0.2401815752807899\n",
      "Loss at Epoch 3/30:0.2107853759308367\n",
      "Loss at Epoch 4/30:0.1951174978632058\n",
      "Loss at Epoch 5/30:0.18663755750187133\n",
      "Loss at Epoch 6/30:0.17649731945780378\n",
      "Loss at Epoch 7/30:0.16738803965963978\n",
      "Loss at Epoch 8/30:0.16160249715509523\n",
      "Loss at Epoch 9/30:0.15766556894481146\n",
      "Loss at Epoch 10/30:0.15362837427499976\n",
      "Loss at Epoch 11/30:0.14640873273960717\n",
      "Loss at Epoch 12/30:0.14196307275243064\n",
      "Loss at Epoch 13/30:0.13943205203425432\n",
      "Loss at Epoch 14/30:0.13964415553744516\n",
      "Loss at Epoch 15/30:0.13533898733988756\n",
      "Loss at Epoch 16/30:0.13247420472933275\n",
      "Loss at Epoch 17/30:0.12996638397228918\n",
      "Loss at Epoch 18/30:0.13145134378983986\n",
      "Loss at Epoch 19/30:0.1262475768834932\n",
      "Loss at Epoch 20/30:0.1272436960613965\n",
      "Loss at Epoch 21/30:0.11858013521535\n",
      "Loss at Epoch 22/30:0.1186117173446677\n",
      "Loss at Epoch 23/30:0.11714523701952084\n",
      "Loss at Epoch 24/30:0.11875289420076858\n",
      "Loss at Epoch 25/30:0.11801966200143806\n",
      "Loss at Epoch 26/30:0.10792148922704618\n",
      "Loss at Epoch 27/30:0.11268395608262026\n",
      "Loss at Epoch 28/30:0.11206852871881594\n",
      "Loss at Epoch 29/30:0.10902653776544984\n",
      "Loss at Epoch 30/30:0.10842680735522951\n"
     ]
    }
   ],
   "source": [
    "#A history of loss will be stored\n",
    "loss = np.zeros(epochs)\n",
    "\n",
    "#Train for the decided number of Epochs\n",
    "for i in range(epochs):\n",
    "\n",
    "    #For training data randomization\n",
    "    shuffleRange = np.arange(train_data.shape[0])\n",
    "    #Shuffling the order of indices?\n",
    "    np.random.shuffle(shuffleRange)\n",
    "    \n",
    "    #start:min(batch, len) for 0-len, batch step\n",
    "    batches = [shuffleRange[i:min(i+batchSize, len(train_data))] for i in range(0, train_data.shape[0], batchSize)]\n",
    "    \n",
    "    #Loop through shuffled samples\n",
    "    for batch in batches:\n",
    "        #A list of costs will be returned, we want to store the summed cost for total Losses\n",
    "        loss[i] += np.sum(myNN(train_data[batch], y=train_targets[batch], mode='train'))\n",
    "        #Backprop to calculate and store gradients\n",
    "        myNN.backward()\n",
    "        \n",
    "        #Implement an optimization step for the weights in the affine layer\n",
    "        for layer in myNN.layers:\n",
    "            if type(layer) == AffineLayer:\n",
    "                optimizer.step(layer)\n",
    "\n",
    "    #if i % 25 == 0 :\n",
    "    print(f\"Loss at Epoch {i+1}/{epochs}:{loss[i]/train_data.shape[0]}\")\n",
    "    #print('EndL:', loss)\n",
    "    \n",
    "#Average the costs\n",
    "#print('Total loss before', loss)\n",
    "loss = loss / train_data.shape[0]"
   ]
  },
  {
   "cell_type": "code",
   "execution_count": 186,
   "metadata": {},
   "outputs": [
    {
     "name": "stdout",
     "output_type": "stream",
     "text": [
      "[0.36597448 0.24018158 0.21078538 0.1951175  0.18663756 0.17649732\n",
      " 0.16738804 0.1616025  0.15766557 0.15362837 0.14640873 0.14196307\n",
      " 0.13943205 0.13964416 0.13533899 0.1324742  0.12996638 0.13145134\n",
      " 0.12624758 0.1272437  0.11858014 0.11861172 0.11714524 0.11875289\n",
      " 0.11801966 0.10792149 0.11268396 0.11206853 0.10902654 0.10842681]\n"
     ]
    }
   ],
   "source": [
    "print(loss)"
   ]
  },
  {
   "cell_type": "code",
   "execution_count": 187,
   "metadata": {},
   "outputs": [
    {
     "data": {
      "image/png": "[encoded data removed]",
      "text/plain": [
       "<Figure size 640x480 with 1 Axes>"
      ]
     },
     "metadata": {},
     "output_type": "display_data"
    }
   ],
   "source": [
    "%matplotlib inline\n",
    "import matplotlib.pyplot as plt\n",
    "\n",
    "#print(epochs)\n",
    "#print(np.arange(0, epochs+1))\n",
    "#print(loss)\n",
    "plt.plot(np.arange(1, epochs+1), loss)\n",
    "plt.show()"
   ]
  },
  {
   "cell_type": "markdown",
   "metadata": {},
   "source": [
    "## Evaluation (Accuracy, Precision, Recall)\n",
    "\n",
    "We run our evaluation on our test data set so that we can measure our model's prediction performance on samples it has never seen before.  If we had high accuracy on the training set but not on the test set, that means we have overfit out model to our training data.\n",
    "\n",
    "The three measures we'll use and their application are:\n",
    "\n",
    "Accuracy: How many correct predictions are made by the model overall?\n",
    "\n",
    "Precision: How many times was a guess for a specific number true? (Does it struggle with some numbers?)\n",
    "\n",
    "Recall: How often could our model correctly identify a specific number when it saw it?\n",
    "\n",
    "These can be calculated using True, False, Positive and Negative predictions.  \n",
    "In the case of our multiclass classification we have to sum up all the possible predictions when considering each individual class.\n",
    "\n",
    "For example, the classification of the number 2 we need to consider:\n",
    "True Positives = Our model guessed 2 and the target was 2\n",
    "True Negatives = Our model guessed *any number other than 2* and the target was indeed that number (Aka all correct predictions of numbers other than 2)\n",
    "*True Negatives are actually not important to most of our calculations except when we sum all predictions, so we won't be needing to calculate it directly. They are just conceptually important to consider*\n",
    "False Positives = Our model guessed 2 and the target was *any number other than 2*\n",
    "False Negative = Our model guessed *any number other than 2* and the target was 2\n",
    "\n",
    "This needs to be done for all 0-9 classes. \n",
    "With the values, we can calculate:\n",
    "\n",
    "Accuracy = $TP + TN / TP + TN + FP + FN$\n",
    "Precision = $TP / TP + FP$\n",
    "Recall = $TP / TP + FN$\n",
    "\n",
    "The cleanest way of doing this is with a confusion matrix, which will have the dimensions 10x10 to store cases between each of the 10 classes to eachother. "
   ]
  },
  {
   "cell_type": "code",
   "execution_count": 188,
   "metadata": {},
   "outputs": [],
   "source": [
    "#Running our neural network on the test data\n",
    "testResult = myNN(x=test_data, mode='test')\n",
    "\n",
    "#Converting the return probabilities to their predictions (the index of the highest %)\n",
    "predictions = np.argmax(testResult, axis=1)"
   ]
  },
  {
   "cell_type": "code",
   "execution_count": 189,
   "metadata": {},
   "outputs": [
    {
     "name": "stdout",
     "output_type": "stream",
     "text": [
      "\t 0\t1\t2\t3\t4\t5\t6\t7\t8\t9 \n",
      "\n",
      "0\t 955\t0\t7\t0\t1\t9\t8\t1\t3\t1\n",
      "1\t 0\t1113\t3\t1\t0\t2\t3\t6\t2\t4\n",
      "2\t 3\t4\t976\t8\t3\t2\t3\t13\t6\t2\n",
      "3\t 0\t2\t4\t956\t1\t14\t0\t12\t11\t8\n",
      "4\t 2\t0\t4\t1\t942\t2\t10\t2\t7\t19\n",
      "5\t 3\t2\t6\t19\t1\t838\t6\t0\t13\t7\n",
      "6\t 9\t4\t6\t0\t9\t10\t920\t0\t5\t1\n",
      "7\t 2\t1\t10\t9\t6\t3\t1\t974\t5\t9\n",
      "8\t 3\t9\t14\t11\t1\t8\t7\t1\t913\t7\n",
      "9\t 3\t0\t2\t5\t18\t4\t0\t19\t9\t951\n"
     ]
    }
   ],
   "source": [
    "#Matrix initialization for 10 x 10 classes\n",
    "nclasses = 10\n",
    "confusionM = np.zeros((nclasses,nclasses), dtype=np.int32)\n",
    "\n",
    "#Counting up predictions where row is the guess, column is the target\n",
    "for i in range(0, len(predictions)):\n",
    "    confusionM[predictions[i]][y_test[i]] += 1\n",
    "    \n",
    "#Rows(left) correspond to the model's guess, columns(top) are the target response\n",
    "labels = list(range(0,nclasses))\n",
    "print(\"\\t\",\"\\t\".join(str(e) for e in labels),\"\\n\")\n",
    "for i in range(0, len(confusionM)):\n",
    "    print(f\"{labels[i]}\\t\", '\\t'.join(str(e) for e in confusionM[i]))"
   ]
  },
  {
   "cell_type": "code",
   "execution_count": 190,
   "metadata": {
    "scrolled": true
   },
   "outputs": [
    {
     "name": "stdout",
     "output_type": "stream",
     "text": [
      "For number values [0 1 2 3 4 5 6 7 8 9]\n",
      "TP: [ 955 1113  976  956  942  838  920  974  913  951]\n",
      "FP: [30 21 44 52 47 57 44 46 61 60]\n",
      "FN: [25 22 56 54 40 54 38 54 61 58]\n",
      "Overall(avg) Accuracy: 0.9532373460602365\n",
      "\n",
      "Class\tPrecision\tRecall\n",
      "0:\t96.95%\t\t97.45%\n",
      "1:\t98.15%\t\t98.06%\n",
      "2:\t95.69%\t\t94.57%\n",
      "3:\t94.84%\t\t94.65%\n",
      "4:\t95.25%\t\t95.93%\n",
      "5:\t93.63%\t\t93.95%\n",
      "6:\t95.44%\t\t96.03%\n",
      "7:\t95.49%\t\t94.75%\n",
      "8:\t93.74%\t\t93.74%\n",
      "9:\t94.07%\t\t94.25%\n"
     ]
    }
   ],
   "source": [
    "'''Functions to calculate the predictions\n",
    "Accuracy = TP + TN / TP + TN + FP + FN (all results)\n",
    "Precision = TP / TP + FP\n",
    "Recall = TP / TP + FN'''\n",
    "\n",
    "#The middle diagonal value of the matrix is where the prediction and target meet (correct guess)\n",
    "def truePos(cFM):\n",
    "    return np.diagonal(cFM)\n",
    "\n",
    "#Summing by columns because rows represent the guesses per class\n",
    "def falsePos(cFM):\n",
    "    return np.sum(cFM, axis=1) - truePos(cFM)\n",
    "\n",
    "#Now we sum over the rows (prediction), minus the correct guesses. This sums up all incorrect guesses per column (target)\n",
    "def falseNeg(cFM):\n",
    "    return np.sum(cFM, axis=0) - truePos(cFM)\n",
    "\n",
    "TP = truePos(confusionM)\n",
    "FP = falsePos(confusionM)\n",
    "FN = falseNeg(confusionM)\n",
    "print(\"For number values [0 1 2 3 4 5 6 7 8 9]\")\n",
    "print('TP:',TP)\n",
    "print('FP:',FP)\n",
    "print('FN:',FN)\n",
    "\n",
    "#Accuracy per class\n",
    "accuracies = TP / np.sum(confusionM, axis=1)\n",
    "precisions = TP / (TP + FP)\n",
    "recalls = TP / (TP + FN)\n",
    "\n",
    "print('Overall(avg) Accuracy:',np.average(accuracies))\n",
    "#Precision and Recall are meant to measure class specific performance, so averaging is not useful to us\n",
    "print('\\nClass\\tPrecision\\tRecall')\n",
    "for i in range(0, len(labels)):\n",
    "    print(\"%d:\\t%.2f%%\\t\\t%.2f%%\" % (labels[i], precisions[i]*100, recalls[i]*100))"
   ]
  },
  {
   "cell_type": "code",
   "execution_count": 191,
   "metadata": {
    "scrolled": true
   },
   "outputs": [
    {
     "name": "stdout",
     "output_type": "stream",
     "text": [
      "[0.        0.0000002 0.0000003 0.0002068 0.        0.        0.\n",
      " 0.9997926 0.        0.       ]\n"
     ]
    },
    {
     "data": {
      "image/png": "[encoded data removed]",
      "text/plain": [
       "<Figure size 640x480 with 1 Axes>"
      ]
     },
     "metadata": {},
     "output_type": "display_data"
    },
    {
     "name": "stdout",
     "output_type": "stream",
     "text": [
      "Target value: 7\n"
     ]
    }
   ],
   "source": [
    "#X_test, y_test\n",
    "\n",
    "print(np.array_str(testResult[0], precision=7, suppress_small=True))\n",
    "printDIGIT(X_test, y_test, 0)"
   ]
  },
  {
   "cell_type": "code",
   "execution_count": 192,
   "metadata": {
    "scrolled": true
   },
   "outputs": [
    {
     "name": "stdout",
     "output_type": "stream",
     "text": [
      "[7 2 1 ... 4 5 6]\n",
      "[7 2 1 ... 4 5 6]\n"
     ]
    }
   ],
   "source": [
    "pred = np.argmax(testResult, axis=1)\n",
    "print(pred)\n",
    "print(y_test)\n",
    "\n",
    "different = []\n",
    "for i in range(0, len(y_test)):\n",
    "    if pred[i] != y_test[i]:\n",
    "        different.append(i)"
   ]
  },
  {
   "cell_type": "code",
   "execution_count": 193,
   "metadata": {
    "scrolled": true
   },
   "outputs": [
    {
     "name": "stdout",
     "output_type": "stream",
     "text": [
      "Accuracy: 0.9538\n",
      "Incorrectly classified numbers:  462\n",
      "Error found at index 490. Pred:6 Target:0\n"
     ]
    },
    {
     "data": {
      "image/png": "[encoded data removed]",
      "text/plain": [
       "<Figure size 640x480 with 1 Axes>"
      ]
     },
     "metadata": {},
     "output_type": "display_data"
    },
    {
     "name": "stdout",
     "output_type": "stream",
     "text": [
      "Target value: 0\n"
     ]
    }
   ],
   "source": [
    "print('Accuracy:', 1 - len(different)/len(y_test))\n",
    "print('Incorrectly classified numbers: ', len(different))\n",
    "errI = 20\n",
    "print(f\"Error found at index {different[errI]}. Pred:{pred[different[errI]]} Target:{y_test[different[errI]]}\")\n",
    "printDIGIT(X_test, y_test, different[errI])"
   ]
  },
  {
   "cell_type": "markdown",
   "metadata": {},
   "source": [
    "Additional References used:\n",
    "    *Assistance on some functions and layer dimensionality from a fellow grad Robert Carter.\n",
    "    *https://stackoverflow.com/questions/31324218/scikit-learn-how-to-obtain-true-positive-true-negative-false-positive-and-fal\n",
    "    *https://shiffdag.medium.com/what-is-accuracy-precision-and-recall-and-why-are-they-important-ebfcb5a10df2\n",
    "    *https://www.mage.ai/blog/definitive-guide-to-accuracy-precision-recall-for-product-developers\n",
    "    *https://towardsdatascience.com/precision-and-recall-88a3776c8007#:~:text=Precision%20is%20calculated%20by%20dividing,was%20predicted%20as%20a%20positive.&text=Recall%20(or%20True%20Positive%20Rate,have%20been%20predicted%20as%20positive."
   ]
  }
 ],
 "metadata": {
  "colab": {
   "provenance": []
  },
  "kernelspec": {
   "display_name": "Python 3.8.13 ('mlops')",
   "language": "python",
   "name": "python3"
  },
  "language_info": {
   "codemirror_mode": {
    "name": "ipython",
    "version": 3
   },
   "file_extension": ".py",
   "mimetype": "text/x-python",
   "name": "python",
   "nbconvert_exporter": "python",
   "pygments_lexer": "ipython3",
   "version": "3.8.10"
  },
  "vscode": {
   "interpreter": {
    "hash": "1f909869fb803169ad77fc6778195d8c6988ec350b555e2703b5d10f2775badb"
   }
  }
 },
 "nbformat": 4,
 "nbformat_minor": 1
}
