{
 "cells": [
  {
   "cell_type": "markdown",
   "metadata": {
    "id": "Za7lau_enfci"
   },
   "source": [
    "# Neural Networks\n",
    "Noah Armsworthy\n",
    "September 2nd, 2022"
   ]
  },
  {
   "cell_type": "markdown",
   "metadata": {
    "id": "I8NISnUkDxJI"
   },
   "source": [
    "We are not going to use Keras to build the network, but we will use their module to import our dataset. https://www.digitalocean.com/community/tutorials/mnist-dataset-in-python"
   ]
  },
  {
   "cell_type": "code",
   "execution_count": 1,
   "metadata": {
    "id": "388qAKAfELQW"
   },
   "outputs": [],
   "source": [
    "import numpy as np\n",
    "import matplotlib.pyplot as plt\n",
    "\n",
    "from keras.datasets import mnist"
   ]
  },
  {
   "cell_type": "code",
   "execution_count": 2,
   "metadata": {
    "colab": {
     "base_uri": "https://localhost:8080/"
    },
    "id": "mTuptyEAD63Q",
    "outputId": "8c98cc3a-cc3f-4f18-aa7d-4288a2432dd7"
   },
   "outputs": [],
   "source": [
    "(X_train, y_train), (X_test, y_test) = mnist.load_data()"
   ]
  },
  {
   "cell_type": "code",
   "execution_count": 3,
   "metadata": {
    "colab": {
     "base_uri": "https://localhost:8080/"
    },
    "id": "ss98SEBLEFYF",
    "outputId": "397443ef-b658-4f02-9f1e-9877929de059"
   },
   "outputs": [
    {
     "name": "stdout",
     "output_type": "stream",
     "text": [
      "<class 'numpy.ndarray'>\n",
      "(60000, 28, 28)\n",
      "(60000,)\n"
     ]
    }
   ],
   "source": [
    "print(type(X_train))\n",
    "print(X_train.shape)\n",
    "print(y_train.shape)"
   ]
  },
  {
   "cell_type": "code",
   "execution_count": 4,
   "metadata": {
    "colab": {
     "base_uri": "https://localhost:8080/",
     "height": 282
    },
    "id": "h1CXqo6xEJW_",
    "outputId": "5d2c6185-c68b-4caa-fce8-25f7e949bcba"
   },
   "outputs": [
    {
     "name": "stdout",
     "output_type": "stream",
     "text": [
      "Target value: 5\n"
     ]
    },
    {
     "data": {
      "image/png": "[encoded data removed]",
      "text/plain": [
       "<Figure size 432x288 with 1 Axes>"
      ]
     },
     "metadata": {
      "needs_background": "light"
     },
     "output_type": "display_data"
    }
   ],
   "source": [
    "plt.imshow(X_train[0], cmap=plt.get_cmap('gray'))\n",
    "print('Target value:', y_train[0])"
   ]
  },
  {
   "cell_type": "markdown",
   "metadata": {
    "id": "xXeXQShxndZC"
   },
   "source": [
    "##Activations"
   ]
  },
  {
   "cell_type": "code",
   "execution_count": 5,
   "metadata": {
    "id": "RqFQPjG-nxOg"
   },
   "outputs": [],
   "source": [
    "'''Abstract method for activations to maintain structure signature \n",
    "and allow for easy forward and backward calls'''\n",
    "import abc\n",
    "\n",
    "class Activations(metaclass=abc.ABCMeta):\n",
    "    @abc.abstractmethod\n",
    "    def forward(self, x):\n",
    "        pass\n",
    "\n",
    "    @abc.abstractmethod\n",
    "    def backward(self, grad, original_input):\n",
    "        pass\n",
    "\n",
    "#Relu https://deepai.org/machine-learning-glossary-and-terms/relu\n",
    "class ReLU(Activations):\n",
    "    def forward(self, x):\n",
    "        return np.maximum(0.0,x)\n",
    "\n",
    "    def backward(self, grad, original_input):\n",
    "    x = original_input\n",
    "        return grad * (x>0.0)\n",
    "\n",
    "    #Allows for easy calling forward using only ReLU(x)\n",
    "    def __call__(self, x, mode=None):\n",
    "        return self.forward(x)\n",
    "\n",
    "#Need to test\n",
    "#Sigmoid https://towardsdatascience.com/derivative-of-the-sigmoid-function-536880cf918e\n",
    "class Sigmoid(Activations):\n",
    "    def forward(self, x):\n",
    "        return 1/(1 + np.exp(-x))\n",
    "    \n",
    "    def backward(self, grad, original_input):\n",
    "        x = self.forward(original_input)\n",
    "        return grad * ( x * (1 - x))\n",
    "    \n",
    "    def __call__(self, x, mode=None):\n",
    "        return self.forward(x)\n",
    "#Tanh https://blogs.cuit.columbia.edu/zp2130/derivative_of_tanh_function/\n",
    "class Tanh(Activations):\n",
    "    def forward(self, x):\n",
    "        return np.tanh(x)\n",
    "    \n",
    "    def backward(self, grad, original_input):\n",
    "        return grad * (1 - np.tanh(original_input)**2)\n",
    "    \n",
    "    def __call__(self, x, mode=None):\n",
    "        return self.forward(x)"
   ]
  },
  {
   "cell_type": "markdown",
   "metadata": {
    "id": "ybOOlqV2Xiwk"
   },
   "source": [
    "##SoftMax"
   ]
  },
  {
   "cell_type": "code",
   "execution_count": 6,
   "metadata": {
    "id": "9OobnbxTDKqg"
   },
   "outputs": [],
   "source": [
    "#Soft max takes in a sample of values and scales them to\n",
    "#Values between 0 and 1, making them interpretable as probabilities\n",
    "def softMax(x):\n",
    "  #Currently made to accept an np array of arrays to process mutliple samples\n",
    "  return np.exp(x)/np.sum(np.exp(x), axis=1, keepdims=True) "
   ]
  },
  {
   "cell_type": "code",
   "execution_count": 90,
   "metadata": {
    "colab": {
     "base_uri": "https://localhost:8080/"
    },
    "id": "qyLY3IIdCUHP",
    "outputId": "389a7458-0d8e-48fd-fc75-a47c2820e80a"
   },
   "outputs": [
    {
     "name": "stdout",
     "output_type": "stream",
     "text": [
      "Result after a ReLU:\n",
      " [[ 2.   0.8]\n",
      " [ 0.  10. ]]\n",
      "Shifted:\n",
      " [[  0.   -1.2]\n",
      " [-10.    0. ]]\n",
      "SoftMax returns:\n",
      " [[7.68524783e-01 2.31475217e-01]\n",
      " [4.53978687e-05 9.99954602e-01]]  \n",
      " Each row (sample) sums up to:\n",
      " [[1.]\n",
      " [1.]] AKA 100%\n",
      "Shifted Values don't change the result of softMax:\n",
      " [[7.68524783e-01 2.31475217e-01]\n",
      " [4.53978687e-05 9.99954602e-01]]\n"
     ]
    }
   ],
   "source": [
    "#Testing\n",
    "x = np.array([[2.0,   0.8], \n",
    "              [-0.4,  10.0]])\n",
    "\n",
    "#ReLU will convert negative values to 0.0\n",
    "relu = ReLU()\n",
    "relX = relu(x)\n",
    "print('Result after a ReLU:\\n', relX)\n",
    "\n",
    "#While implementing softmax, you can shift your input. \n",
    "#This does not affect the result of the softmax operation and improves numerical stability.\n",
    "shiftedX = relX - np.max(relX, axis=1, keepdims=True)\n",
    "print('Shifted:\\n', shiftedX)\n",
    "sM = softMax(relX)\n",
    "print('SoftMax returns:\\n',sM, ' \\n Each row (sample) sums up to:\\n', np.sum(sM, axis=1, keepdims=True), 'AKA 100%')\n",
    "sM = softMax(shiftedX)\n",
    "print('Shifted Values don\\'t change the result of softMax:\\n',sM)"
   ]
  },
  {
   "cell_type": "code",
   "execution_count": 8,
   "metadata": {
    "id": "IyREPk11TeQq"
   },
   "outputs": [
    {
     "data": {
      "text/plain": [
       "\"Old for when we hand in a sample at a time\\nfor sample in relX:\\n  sM = softMax(sample)\\n  print('Normal:', sM, ' Sums to:', np.sum(sM))\\n  print('Shifted:',softMax(sample - np.max(sample)))\\n\""
      ]
     },
     "execution_count": 8,
     "metadata": {},
     "output_type": "execute_result"
    }
   ],
   "source": [
    "'''Old for when we hand in a sample at a time\n",
    "for sample in relX:\n",
    "  sM = softMax(sample)\n",
    "  print('Normal:', sM, ' Sums to:', np.sum(sM))\n",
    "  print('Shifted:',softMax(sample - np.max(sample)))\n",
    "'''"
   ]
  },
  {
   "cell_type": "markdown",
   "metadata": {
    "id": "P6MvVdxiXlgh"
   },
   "source": [
    "##Cross Entropy Loss\n",
    "Takes in probabilities from the softmax. CE will measure the distance from the target values.\n",
    "np.log uses the natural logarithm of base $e$."
   ]
  },
  {
   "cell_type": "markdown",
   "metadata": {
    "id": "TBGTq0A-c1WX"
   },
   "source": [
    "###Entropy \n",
    "measured randomness\n",
    "(higher = less certainty of the pick)\n",
    "https://towardsdatascience.com/cross-entropy-loss-function-f38c4ec8643e"
   ]
  },
  {
   "cell_type": "code",
   "execution_count": 9,
   "metadata": {
    "id": "Yy11kq68XoSz"
   },
   "outputs": [],
   "source": [
    "def entropy(x):\n",
    "  return -np.sum(x * np.log(x), axis=1, keepdims=True)"
   ]
  },
  {
   "cell_type": "code",
   "execution_count": 10,
   "metadata": {
    "colab": {
     "base_uri": "https://localhost:8080/"
    },
    "id": "f96RdrYboAl6",
    "outputId": "1e478f09-f910-4ea6-fda5-918e51dd4796"
   },
   "outputs": [
    {
     "name": "stdout",
     "output_type": "stream",
     "text": [
      "Entropy value between 1.0% and 99.0% : 0.056001534354847345\n",
      "Entropy value between 20.0% and 80.0% : 0.5004024235381879\n",
      "Entropy value between 50.0% and 50.0% : 0.6931471805599453\n",
      "Entropy value between 4 options, each with 25% likelihood : 1.3862943611198906\n"
     ]
    }
   ],
   "source": [
    "'''When there is a more obviously occuring winner\n",
    "    ie. 10% vs 90%, entropy will be low because it's likely to choose the 90% term.\n",
    "    However, in a 50/50 split, entropy is high because it is hard to guess which option will be selected. (Greater uncertainty)\n",
    "'''\n",
    "a = [[0.01, 0.99],[0.2, 0.8], [0.5, 0.5]]\n",
    "entropyA = entropy(a)\n",
    "for i in range(0, len(a)):\n",
    "  print(f\"Entropy value between {a[i][0]*100}% and {a[i][1]*100}% : {entropyA[i][0]}\")\n",
    "\n",
    "#With more options with relatively even spread, we can see even higher entropy values\n",
    "print(f\"Entropy value between 4 options, each with 25% likelihood : {entropy([[0.25, 0.25, 0.25, 0.25]])[0][0]}\")"
   ]
  },
  {
   "cell_type": "code",
   "execution_count": 11,
   "metadata": {
    "colab": {
     "base_uri": "https://localhost:8080/"
    },
    "id": "F4PjBz8gnvG7",
    "outputId": "c7bc2cf3-4079-40a3-cc3b-476629f2835d"
   },
   "outputs": [
    {
     "name": "stdout",
     "output_type": "stream",
     "text": [
      "Returned probabilities from above:\n",
      "[76.8525% , 23.1475%]\n",
      "[0.0045% , 99.9955%]\n",
      "Entropy by row (sample):\n",
      " [[0.541053]\n",
      " [0.000499]]\n"
     ]
    }
   ],
   "source": [
    "#Our values from above\n",
    "print('Returned probabilities from above:')\n",
    "for row in sM:\n",
    "  print(\"[{:.4f}% , {:.4f}%]\".format(row[0]*100, row[1]*100))\n",
    "print('Entropy by row (sample):\\n', np.array_str(entropy(sM), precision=6, suppress_small=True))"
   ]
  },
  {
   "cell_type": "code",
   "execution_count": 12,
   "metadata": {
    "colab": {
     "base_uri": "https://localhost:8080/"
    },
    "id": "AvzF3zrBd2s4",
    "outputId": "1c2ca29a-c3e4-4d3d-ced3-b6f4b15e6842"
   },
   "outputs": [
    {
     "name": "stdout",
     "output_type": "stream",
     "text": [
      "Mock one-hot targets (1 represents the correct selection):\n",
      " [[0 1]\n",
      " [1 0]]\n",
      "When log probabilities are multiplied by the one-hot targets we get\n",
      " [[ 0.          1.46328247]\n",
      " [10.0000454   0.        ]]\n",
      "Which means the loss per sample is:\n",
      " [[ 1.4633]\n",
      " [10.    ]]\n"
     ]
    }
   ],
   "source": [
    "def entropyLoss(x, t):\n",
    "  return -np.sum(t * np.log(sM),  axis=1, keepdims=True)\n",
    "\n",
    "#Mock targets in that are one-hot encoded\n",
    "tWrong = np.array([[0,1], [1,0]])\n",
    "print('Mock one-hot targets (1 represents the correct selection):\\n', tWrong)\n",
    "print('When log probabilities are multiplied by the one-hot targets we get\\n', tWrong * -np.log(sM))\n",
    "print('Which means the loss per sample is:\\n', np.array_str(entropyLoss(sM, tWrong), precision=4, suppress_small=True))"
   ]
  },
  {
   "cell_type": "markdown",
   "metadata": {
    "id": "2V0p6ZEhuPVj"
   },
   "source": [
    "For both samples, we set the target as the value with the lowest percentage of likelihood, meaning the most incorrect choice it could be. The difference in the loss values is a degree of how wrong we were based on what was expected from the percentages above.\n",
    "\n",
    "If we were to have targets align with what our data says it more likely, we would see low loss numbers:"
   ]
  },
  {
   "cell_type": "code",
   "execution_count": 13,
   "metadata": {
    "colab": {
     "base_uri": "https://localhost:8080/"
    },
    "id": "jiZLxEWzuxz8",
    "outputId": "6b3ef202-7aa1-444c-d578-98d965eddc63"
   },
   "outputs": [
    {
     "name": "stdout",
     "output_type": "stream",
     "text": [
      "Target aligning with highest percentage means the loss per sample is:\n",
      " [[0.2632825]\n",
      " [0.0000454]]\n"
     ]
    }
   ],
   "source": [
    "tRight = np.array([[1,0], [0,1]])\n",
    "print('Target aligning with highest percentage means the loss per sample is:\\n', np.array_str(entropyLoss(sM, tRight), precision=7, suppress_small=True))"
   ]
  },
  {
   "cell_type": "markdown",
   "metadata": {},
   "source": [
    "**WIP ^^ needs explanation on 'cross' part of cross entropy*\n",
    "Probably need to go over the backwards pass before this too. cri\n",
    "\n",
    "Now we can group these functions into our activation structure and test that it is indeed returning what's expected."
   ]
  },
  {
   "cell_type": "code",
   "execution_count": 127,
   "metadata": {},
   "outputs": [
    {
     "name": "stdout",
     "output_type": "stream",
     "text": [
      "[[ 2.   0.8]\n",
      " [-0.4 10. ]]\n",
      "No targets given(Probabilities): \n",
      " [[0.7685248 0.2314752]\n",
      " [0.0000304 0.9999696]]\n",
      "Targets given(Softmax Cross E Loss): \n",
      " [ 1.46328247 10.40003043]\n"
     ]
    }
   ],
   "source": [
    "'''https://pytorch.org/docs/stable/generated/torch.nn.CrossEntropyLoss.html'''\n",
    "class SoftMaxCrossLoss(Activations):\n",
    "    def __init__(self):\n",
    "        self.probs = None\n",
    "        self.y = None\n",
    "    \n",
    "    def forward(self, x, y=None):\n",
    "        #y = none means we are in testing mode, there is no target\n",
    "        # Having a y would mean we are in training mode\n",
    "        \n",
    "        #Shifting our x values for numerical stability\n",
    "        shifted_x = x - np.max(x, axis=1, keepdims=True)\n",
    "        \n",
    "        #Storing the probabilities\n",
    "        self.probs = np.exp(shifted_x) / np.sum(np.exp(shifted_x), axis=1, keepdims=True)\n",
    "        #print('Probabilities of the samples : ', np.array_str(self.probs, precision=7, suppress_small=True))\n",
    "        \n",
    "        if y is None:\n",
    "            #print('I know Im testing, this should be probs:')\n",
    "            #Here we are simply returning probabilities to make an prediction \n",
    "            return self.probs\n",
    "        else:\n",
    "            #print('Im returning loss now')\n",
    "            self.y = y\n",
    "            #Returning the total loss of each sample (row) by summing the columns\n",
    "            return -1 * np.sum(self.y * np.log(self.probs), axis=1)\n",
    "        \n",
    "    def backward(self, grad, original_input):\n",
    "        return (self.probs - self.y) * grad\n",
    "    \n",
    "    def __call__(self, x, y=None, mode=None):\n",
    "        return self.forward(x,y)\n",
    "    \n",
    "print(x)\n",
    "softMCE = SoftMaxCrossLoss()\n",
    "#Not giving targets will return probabilities\n",
    "print('No targets given(Probabilities): \\n',np.array_str(softMCE(x), precision=7, suppress_small=True))\n",
    "print('Targets given(Softmax Cross E Loss): \\n',softMCE(x, y=tWrong))"
   ]
  },
  {
   "cell_type": "markdown",
   "metadata": {},
   "source": [
    "##Layers class for the layers of the neural network."
   ]
  },
  {
   "cell_type": "code",
   "execution_count": 132,
   "metadata": {},
   "outputs": [],
   "source": [
    "class Layers(metaclass=abc.ABCMeta):\n",
    "    @abc.abstractmethod\n",
    "    def forward(self,x):\n",
    "        return\n",
    "    \n",
    "    @abc.abstractmethod\n",
    "    def backward(self, grad, original_input):\n",
    "        return\n",
    "\n",
    "'''Fully Connected Layer. Linear combination of the inputs: w0x0 + w1x1 + ...+ wnxn + b for n number of weights, and b bias.'''\n",
    "class AffineLayer(Layers):\n",
    "    def __init__(self, input_dim, hidden_units):\n",
    "        ran = np.sqrt(1/input_dim)\n",
    "        \n",
    "                #Initializing the weights and bias, in that order\n",
    "        self.parameters = [np.random.uniform(-ran,ran,(hidden_units,input_dim)),\n",
    "                           np.random.uniform(-ran,ran,hidden_units)]\n",
    "        \n",
    "        self.grads = [np.zeros_like(self.parameters[0]),np.zeros_like(self.parameters[1])]\n",
    "        \n",
    "    def forward(self, x):\n",
    "        #print('All params:',self.parameters)\n",
    "        #print('W\\'s transposed:',self.parameters[0].T)\n",
    "        #print('Given x:',x)\n",
    "        #Multiplies all x values by their respective weights, then adds them by row\n",
    "        wXSum = np.matmul(x, self.parameters[0].T)\n",
    "        #print('Applied weights:',wXSum)\n",
    "        #print('Adding b:',wXSum + self.parameters[1])\n",
    "\n",
    "        #Adding up all wx + b values\n",
    "        return wXSum + self.parameters[1]\n",
    "    \n",
    "    def backward(self, grad, original_input):\n",
    "        #Using the chain rule, multiply the incoming gradient with the current gradient\n",
    "        #Storing Partial Derivatives of Y = Xw + b. Multiplied by incoming grad\n",
    "        #dw = original input\n",
    "        self.grads[0] = np.matmul(grad.T, original_input)\n",
    "        #db = 1\n",
    "        self.grads[1] = grad\n",
    "        \n",
    "        #Derivative of linear combination w.r.t the original input\n",
    "        #dy/dx = w\n",
    "        grad_x = np.dot(grad, self.parameters[0]) #Order here matters\n",
    "        return grad_x\n",
    "    \n",
    "    def __call__(self, x, mode=None):\n",
    "        return self.forward(x)\n",
    "\n"
   ]
  },
  {
   "cell_type": "code",
   "execution_count": 16,
   "metadata": {
    "scrolled": false
   },
   "outputs": [
    {
     "name": "stdout",
     "output_type": "stream",
     "text": [
      "Starting parameters: [array([[-0.12446163, -0.13230478,  0.32909129,  0.10957762,  0.00897228],\n",
      "       [ 0.24549829, -0.22203597,  0.14655944,  0.13511814, -0.09848324]]), array([-0.15246773,  0.08739301])]\n",
      "[0.92890684 0.37655399]\n"
     ]
    }
   ],
   "source": [
    "#Self testing for understanding\n",
    "'''Each hidden unit generates its own weights the length of our given input dimensions and a bias.\n",
    "Those input dimensions are the number of variables in the given array x. \n",
    "Each value within x is multiplied by the weight of the same index (for all hidden units), then\n",
    "added up to a single value. We then add the bias value to that value.'''\n",
    "x2 = np.array([1, 2, 3, 4, 5])\n",
    "aLayer = AffineLayer(input_dim=5, hidden_units=2)\n",
    "print('Starting parameters:',aLayer.parameters)\n",
    "print(aLayer(x2))"
   ]
  },
  {
   "cell_type": "code",
   "execution_count": 17,
   "metadata": {},
   "outputs": [],
   "source": [
    "#Dropout layer https://machinelearning.wtf/terms/inverted-dropout/\n",
    "class Dropout(Layers):\n",
    "  #p = keep probability\n",
    "  #layer that keeps weights with probability p. \n",
    "    def __init__(self,p):\n",
    "        self.p = p\n",
    "        self.mask = None\n",
    "    \n",
    "    def forward(self,x,mode=None):\n",
    "        #We only dropout during training\n",
    "        if mode == 'train':\n",
    "            #Shape of the incoming array, random values between 0-1\n",
    "            if len(x.shape) > 1:\n",
    "              self.mask = np.random.rand(x.shape[0], x.shape[1])\n",
    "            else:\n",
    "              self.mask = np.random.rand(x.shape[0])\n",
    "            #print(\"Randomly generated values as the shape of input: \\n{}\".format(self.mask))\n",
    "\n",
    "            #Convert random value matrix to binary w.r.t keep probability\n",
    "            #Keep values less than p (set to 1), discard those above (set to 0)\n",
    "            self.mask = self.mask < self.p\n",
    "            #print(\"Mask after converting to binary with rule < {}(p value) : \\n{}\".format(self.p, self.mask))\n",
    "\n",
    "            #Multiply neurons by the keep matrix\n",
    "            x = np.multiply(x, self.mask)\n",
    "        \n",
    "            #Scale values by p for inverted dropout during training\n",
    "            #1e-7 to prevent division by 0\n",
    "            x = x / ((1 - self.p) + 1e-7)\n",
    "        #print(\"Dropout forward result:\\n{}\".format(x))\n",
    "        return x\n",
    "    \n",
    "    def backward(self, grad,original_input):\n",
    "        #Want to use the same mask as before to shut down the same neurons\n",
    "        #We only use backward pass in training.\n",
    "        grad_x = (grad * self.mask) / ((1 - self.p) + + 1e-7)\n",
    "\n",
    "        #return gradient with respect to the original input to this layer\n",
    "        return grad_x   \n",
    "    \n",
    "    def __call__(self,x,mode='test'):\n",
    "        return self.forward(x,mode)"
   ]
  },
  {
   "cell_type": "markdown",
   "metadata": {},
   "source": [
    "##Gradient Descent"
   ]
  },
  {
   "cell_type": "markdown",
   "metadata": {},
   "source": [
    "###Stochastic GD"
   ]
  },
  {
   "cell_type": "code",
   "execution_count": 56,
   "metadata": {},
   "outputs": [],
   "source": [
    "class Optimizer(metaclass=abc.ABCMeta):\n",
    "    @abc.abstractmethod\n",
    "    def step(self, layer):\n",
    "        return\n",
    "    \n",
    "class SGD(Optimizer):\n",
    "    def __init__(self, momentum, lr):\n",
    "        #The factor at which the momentum increases each time\n",
    "        self.momentum = momentum\n",
    "        \n",
    "        #Learning rate\n",
    "        self.lr = lr\n",
    "        \n",
    "        #Momentum seperately for each layer\n",
    "        self.momenDict = {}\n",
    "        \n",
    "    def step(self, layer):\n",
    "        #Storing layers in their dictionary of momentums\n",
    "        if layer not in self.momenDict.keys():\n",
    "            self.momenDict[layer] = {}\n",
    "            #bias momentum\n",
    "            self.momenDict[layer]['bM'] = 0\n",
    "            #weight momentum\n",
    "            self.momenDict[layer]['wM'] = 0\n",
    "            \n",
    "        #The avg of the gradients stored for b\n",
    "        biasGradient = np.sum(layer.grads[1], axis=0) / len(layer.grads[1])\n",
    "        \n",
    "        #Will start off by adding 0, then will build momentum each step\n",
    "        self.momenDict[layer]['bM'] = biasGradient + (self.momenDict[layer]['bM'] * self.momentum)\n",
    "        self.momenDict[layer]['wM'] = layer.grads[0] + (self.momenDict[layer]['wM'] * self.momentum)\n",
    "        \n",
    "        #Implementing the step, in the negative GD direction (descent)\n",
    "        layer.parameters[1] -= self.momenDict[layer]['bM'] * self.lr\n",
    "        layer.parameters[0] -= self.momenDict[layer]['wM'] * self.lr"
   ]
  },
  {
   "cell_type": "code",
   "execution_count": 20,
   "metadata": {},
   "outputs": [
    {
     "name": "stdout",
     "output_type": "stream",
     "text": [
      "{'layername': {'bM': 0, 'wM': 0}}\n"
     ]
    }
   ],
   "source": [
    "dictT = {}\n",
    "dictT['layername'] = {}\n",
    "dictT['layername']['bM'] = 0\n",
    "            #weight momentum\n",
    "dictT['layername']['wM'] = 0\n",
    "print(dictT)"
   ]
  },
  {
   "cell_type": "markdown",
   "metadata": {},
   "source": [
    "##Implementing a FCNN"
   ]
  },
  {
   "cell_type": "markdown",
   "metadata": {},
   "source": [
    "##Fully Connected NN"
   ]
  },
  {
   "cell_type": "code",
   "execution_count": 202,
   "metadata": {},
   "outputs": [
    {
     "name": "stdout",
     "output_type": "stream",
     "text": [
      "(60000, 784)\n",
      "[[0. 0. 0. 0. 0. 0. 0. 0. 0. 1.]\n",
      " [0. 0. 1. 0. 0. 0. 0. 0. 0. 0.]\n",
      " [0. 0. 0. 0. 0. 0. 0. 0. 0. 1.]]\n",
      "(10000, 784)\n",
      "[[0. 1. 0. 0. 0. 0. 0. 0. 0. 0.]\n",
      " [0. 0. 0. 0. 0. 1. 0. 0. 0. 0.]\n",
      " [0. 1. 0. 0. 0. 0. 0. 0. 0. 0.]]\n"
     ]
    }
   ],
   "source": [
    "#Data Preparation\n",
    "def prepareMNIST(data, targets):\n",
    "    #Data will be a certain amount of images of 28 x 28 pixels\n",
    "    #We want to combine all the pixels into 1 vector\n",
    "    newData = data.reshape(data.shape[0], 784)\n",
    "    \n",
    "    #Next we need to change our targets into one hot vectors of size 10 (the number drawings are from 0-9)\n",
    "    #For all sample indices in the sample range, at the index location of the target place a 1\n",
    "    #numpy allows us to us a range of numbers for indices reference\n",
    "    temp = np.zeros((len(targets), 10))\n",
    "    temp[np.arange(targets.size), targets] = 1\n",
    "    newTargets = temp\n",
    "    \n",
    "    return newData, newTargets\n",
    "\n",
    "#Loading data\n",
    "x_train, y_train = (np.load(\"train.npz\")['arr_0'], np.load(\"train.npz\")['arr_1'])\n",
    "train_data, train_targets = prepareMNIST(x_train, y_train)\n",
    "print(train_data.shape)\n",
    "print(train_targets[:3])\n",
    "\n",
    "x_test, y_test = (np.load(\"test.npz\")['arr_0'], np.load(\"test.npz\")['arr_1'])\n",
    "test_data, test_targets = prepareMNIST(x_test, y_test)\n",
    "print(test_data.shape)\n",
    "print(test_targets[:3])\n"
   ]
  },
  {
   "cell_type": "code",
   "execution_count": 140,
   "metadata": {},
   "outputs": [],
   "source": [
    "class FCNN:\n",
    "    def __init__(self, layers):\n",
    "        self.layers = layers\n",
    "        self.original_inputs = []\n",
    "        \n",
    "    def forward(self, x, y=None, mode='test'):\n",
    "        #Storing the initial inputs, keeps each input to each layer in order\n",
    "        self.original_inputs = [x.copy()]\n",
    "\n",
    "        for i in range(0, len(self.layers)):\n",
    "            #print(len(self.layers))\n",
    "            #print(self.layers[i])\n",
    "            #The last layer calculates loss so we hand it y targets.\n",
    "            if i == (len(self.layers) - 1):\n",
    "                #print('HERE', self.layers[i])\n",
    "                self.original_inputs.append(self.layers[i](self.original_inputs[-1], y=y, mode=mode))\n",
    "            else:\n",
    "                #Each layer gets the most recent output as their input (Starts with x added above)\n",
    "                self.original_inputs.append(self.layers[i](self.original_inputs[-1], mode))\n",
    "        \n",
    "        #The last added input/output is our result (loss or prediction)\n",
    "        return self.original_inputs[-1]\n",
    "        \n",
    "    def backward(self):\n",
    "        #Pop the loss value from the end of our inputs\n",
    "        loss = self.original_inputs.pop()\n",
    "        \n",
    "        #Starting from the loss function, L=1 for backprop\n",
    "        grad = 1 \n",
    "        \n",
    "        #Looping backwards through the layers, applying the chain rule\n",
    "        #Python backwards loop range(inclusive start, exclusive end, step)\n",
    "        for i in range(len(self.layers)-1, -1, -1):\n",
    "            #print('Layer:', self.layers[i])\n",
    "            origin = self.original_inputs.pop()\n",
    "            \n",
    "            grad = self.layers[i].backward(grad, origin)\n",
    "            \n",
    "        #Return grad w.r.t input only\n",
    "        return grad\n",
    "    \n",
    "    def __call__(self, x, y=None, mode='test'):\n",
    "        return self.forward(x, y, mode)\n",
    "        "
   ]
  },
  {
   "cell_type": "code",
   "execution_count": 226,
   "metadata": {
    "scrolled": true
   },
   "outputs": [
    {
     "data": {
      "text/plain": [
       "\"#print(myNN.layers)\\nresult = myNN(x=train_data[:testSize], y=train_targets[:testSize], mode='train')\\n#result = myNN(x=train_data[:500], mode='test')\\nprint(len(result), result[:testSize])\\ngrad = myNN.backward()\\nprint(len(grad), grad[:testSize])\\nfor layer in myNN.layers:\\n    if type(layer) == AffineLayer:\\n        optimizer.step(layer)\""
      ]
     },
     "execution_count": 226,
     "metadata": {},
     "output_type": "execute_result"
    }
   ],
   "source": [
    "momentum = 0.95\n",
    "lr = 0.001\n",
    "epochs = 10\n",
    "batchSize = 100\n",
    "testSize = 5\n",
    "myNN = FCNN([AffineLayer(784, 32), Sigmoid(), AffineLayer(32, 10), SoftMaxCrossLoss()])\n",
    "optimizer = SGD(momentum, lr)\n",
    "'''#print(myNN.layers)\n",
    "result = myNN(x=train_data[:testSize], y=train_targets[:testSize], mode='train')\n",
    "#result = myNN(x=train_data[:500], mode='test')\n",
    "print(len(result), result[:testSize])\n",
    "grad = myNN.backward()\n",
    "print(len(grad), grad[:testSize])\n",
    "for layer in myNN.layers:\n",
    "    if type(layer) == AffineLayer:\n",
    "        optimizer.step(layer)'''\n",
    "        "
   ]
  },
  {
   "cell_type": "code",
   "execution_count": 227,
   "metadata": {},
   "outputs": [
    {
     "name": "stdout",
     "output_type": "stream",
     "text": [
      "Loss at Epoch 1/10:0.33487806749640725\n",
      "Loss at Epoch 2/10:0.18647286693915407\n",
      "Loss at Epoch 3/10:0.15550975880677081\n",
      "Loss at Epoch 4/10:0.1419374365230694\n",
      "Loss at Epoch 5/10:0.12860288578149962\n",
      "Loss at Epoch 6/10:0.12173965292708294\n",
      "Loss at Epoch 7/10:0.11681663570312592\n",
      "Loss at Epoch 8/10:0.1068557343492225\n",
      "Loss at Epoch 9/10:0.10598730510460674\n",
      "Loss at Epoch 10/10:0.10116960082058919\n"
     ]
    }
   ],
   "source": [
    "#A history of loss will be stored\n",
    "loss = np.zeros(epochs)\n",
    "\n",
    "#Train for the decided number of Epochs\n",
    "for i in range(epochs):\n",
    "    #print('StartL:', loss)\n",
    "    #For training data randomization\n",
    "    shuffleRange = np.arange(train_data.shape[0])\n",
    "    #Shuffling the order of indices?\n",
    "    np.random.shuffle(shuffleRange)\n",
    "    #print(shuffleRange)\n",
    "    \n",
    "    #print(shuffleRange[i:min(i+batchSize, len(train_data))])\n",
    "    #start:min(batch, len) for 0-len, batch step\n",
    "    batches = [shuffleRange[i:min(i+batchSize, len(train_data))] for i in range(0, train_data.shape[0], batchSize)]\n",
    "    #print(len(batches), batches[:1])\n",
    "    \n",
    "    #Loop through shuffled samples\n",
    "    for batch in batches:\n",
    "        #A list of costs will be returned, we want to store the summed cost for total Losses\n",
    "        loss[i] += np.sum(myNN(train_data[batch], y=train_targets[batch], mode='train'))\n",
    "        #Backprop to calculate and store gradients\n",
    "        myNN.backward()\n",
    "        \n",
    "        #Implement an optimization step for the weights in the affine layer\n",
    "        for layer in myNN.layers:\n",
    "            if type(layer) == AffineLayer:\n",
    "                optimizer.step(layer)\n",
    "\n",
    "    #if i % 25 == 0 :\n",
    "    print(f\"Loss at Epoch {i+1}/{epochs}:{loss[i]/train_data.shape[0]}\")\n",
    "    #print('EndL:', loss)\n",
    "    \n",
    "#Average the costs\n",
    "#print('Total loss before', loss)\n",
    "loss = loss / train_data.shape[0]"
   ]
  },
  {
   "cell_type": "code",
   "execution_count": 228,
   "metadata": {},
   "outputs": [
    {
     "name": "stdout",
     "output_type": "stream",
     "text": [
      "[0.33487807 0.18647287 0.15550976 0.14193744 0.12860289 0.12173965\n",
      " 0.11681664 0.10685573 0.10598731 0.1011696 ]\n"
     ]
    }
   ],
   "source": [
    "print(loss)"
   ]
  },
  {
   "cell_type": "code",
   "execution_count": 229,
   "metadata": {},
   "outputs": [
    {
     "data": {
      "image/png": "[encoded data removed]",
      "text/plain": [
       "<Figure size 432x288 with 1 Axes>"
      ]
     },
     "metadata": {
      "needs_background": "light"
     },
     "output_type": "display_data"
    }
   ],
   "source": [
    "%matplotlib inline\n",
    "import matplotlib.pyplot as plt\n",
    "\n",
    "#print(epochs)\n",
    "#print(np.arange(0, epochs+1))\n",
    "#print(loss)\n",
    "plt.plot(np.arange(1, epochs+1), loss)\n",
    "plt.show()"
   ]
  },
  {
   "cell_type": "markdown",
   "metadata": {},
   "source": [
    "##Evaluation (Accuracy, Precision, Recall)\n",
    "\n",
    "We run our evaluation on our test data set so that we can measure our model's prediction performance on samples it has never seen before.  If we had high accuracy on the training set but not on the test set, that means we have overfit out model to our training data.\n",
    "\n",
    "The three measures we'll use and their application are:\n",
    "\n",
    "Accuracy: How many correct predictions are made by the model overall?\n",
    "\n",
    "Precision: How many times was a guess for a specific number true? (Does it struggle with some numbers?)\n",
    "\n",
    "Recall: How often could our model correctly identify a specific number when it saw it?\n",
    "\n",
    "These can be calculated using True, False, Positive and Negative predictions.  \n",
    "In the case of our multiclass classification we have to sum up all the possible predictions when considering each individual class.\n",
    "\n",
    "For example, the classification of the number 2 we need to consider:\n",
    "True Positives = Our model guessed 2 and the target was 2\n",
    "True Negatives = Our model guessed *any number other than 2* and the target was indeed that number (Aka all correct predictions of numbers other than 2)\n",
    "*True Negatives are actually not important to most of our calculations except when we sum all predictions, so we won't be needing to calculate it directly. They are just conceptually important to consider*\n",
    "False Positives = Our model guessed 2 and the target was *any number other than 2*\n",
    "False Negative = Our model guessed *any number other than 2* and the target was 2\n",
    "\n",
    "This needs to be done for all 0-9 classes. \n",
    "With the values, we can calculate:\n",
    "\n",
    "Accuracy = $TP + TN / TP + TN + FP + FN$\n",
    "Precision = $TP / TP + FP$\n",
    "Recall = $TP / TP + FN$\n",
    "\n",
    "The cleanest way of doing this is with a confusion matrix, which will have the dimensions 10x10 to store cases between each of the 10 classes to eachother. "
   ]
  },
  {
   "cell_type": "code",
   "execution_count": 239,
   "metadata": {},
   "outputs": [],
   "source": [
    "#Running our neural network on the test data\n",
    "testResult = myNN(x=test_data, mode='test')\n",
    "\n",
    "#Converting the return probabilities to their predictions (the index of the highest %)\n",
    "predictions = np.argmax(testResult, axis=1)"
   ]
  },
  {
   "cell_type": "code",
   "execution_count": 301,
   "metadata": {},
   "outputs": [
    {
     "name": "stdout",
     "output_type": "stream",
     "text": [
      "\t 0\t1\t2\t3\t4\t5\t6\t7\t8\t9 \n",
      "\n",
      "0\t 956\t0\t6\t2\t1\t8\t4\t0\t7\t6\n",
      "1\t 1\t1117\t0\t1\t0\t2\t3\t11\t2\t2\n",
      "2\t 4\t4\t981\t10\t3\t1\t1\t14\t6\t1\n",
      "3\t 0\t4\t14\t968\t3\t21\t2\t1\t7\t7\n",
      "4\t 0\t0\t7\t2\t943\t3\t7\t4\t8\t15\n",
      "5\t 4\t1\t4\t6\t1\t819\t7\t2\t4\t1\n",
      "6\t 6\t1\t2\t1\t4\t13\t924\t0\t7\t1\n",
      "7\t 3\t1\t5\t6\t2\t5\t2\t981\t5\t9\n",
      "8\t 4\t4\t11\t6\t4\t15\t8\t4\t923\t5\n",
      "9\t 2\t3\t2\t8\t21\t5\t0\t11\t5\t962\n"
     ]
    }
   ],
   "source": [
    "#Matrix initialization for 10 x 10 classes\n",
    "nclasses = 10\n",
    "confusionM = np.zeros((nclasses,nclasses), dtype=np.int32)\n",
    "\n",
    "#Counting up predictions where row is the guess, column is the target\n",
    "for i in range(0, len(predictions)):\n",
    "    confusionM[predictions[i]][y_test[i]] += 1\n",
    "    \n",
    "#Rows(left) correspond to the model's guess, columns(top) are the target response\n",
    "labels = list(range(0,nclasses))\n",
    "print(\"\\t\",\"\\t\".join(str(e) for e in labels),\"\\n\")\n",
    "for i in range(0, len(confusionM)):\n",
    "    print(f\"{labels[i]}\\t\", '\\t'.join(str(e) for e in confusionM[i]))"
   ]
  },
  {
   "cell_type": "code",
   "execution_count": 368,
   "metadata": {
    "scrolled": true
   },
   "outputs": [
    {
     "name": "stdout",
     "output_type": "stream",
     "text": [
      "TP: [ 956 1117  981  968  943  819  924  981  923  962]\n",
      "FP: [34 22 44 59 46 30 35 38 61 57]\n",
      "FN: [24 18 51 42 39 73 34 47 51 47]\n",
      "Overall(avg) Accuracy: 0.9572401474611283\n",
      "\n",
      "Class\tPrecision\tRecall\n",
      "0:\t96.57%\t\t97.55%\n",
      "1:\t98.07%\t\t98.41%\n",
      "2:\t95.71%\t\t95.06%\n",
      "3:\t94.26%\t\t95.84%\n",
      "4:\t95.35%\t\t96.03%\n",
      "5:\t96.47%\t\t91.82%\n",
      "6:\t96.35%\t\t96.45%\n",
      "7:\t96.27%\t\t95.43%\n",
      "8:\t93.80%\t\t94.76%\n",
      "9:\t94.41%\t\t95.34%\n"
     ]
    }
   ],
   "source": [
    "'''Functions to calculate the predictions\n",
    "Accuracy = TP + TN / TP + TN + FP + FN (all results)\n",
    "Precision = TP / TP + FP\n",
    "Recall = TP / TP + FN'''\n",
    "\n",
    "#The middle diagonal value of the matrix is where the prediction and target meet (correct guess)\n",
    "def truePos(cFM):\n",
    "    return np.diagonal(cFM)\n",
    "\n",
    "#\n",
    "def falsePos(cFM):\n",
    "    #Summing by columns because rows represent the guesses per class\n",
    "    return np.sum(cFM, axis=1) - truePos(cFM)\n",
    "\n",
    "#\n",
    "def falseNeg(cFM):\n",
    "    #Now we sum over the rows (prediction), minus the correct guesses. This sums up all incorrect guesses per column (target)\n",
    "    return np.sum(cFM, axis=0) - truePos(cFM)\n",
    "\n",
    "TP = truePos(confusionM)\n",
    "FP = falsePos(confusionM)\n",
    "FN = falseNeg(confusionM)\n",
    "print('TP:',TP)\n",
    "print('FP:',FP)\n",
    "print('FN:',FN)\n",
    "\n",
    "#Accuracy per class\n",
    "accuracies = TP / np.sum(confusionM, axis=1)\n",
    "precisions = TP / (TP + FP)\n",
    "recalls = TP / (TP + FN)\n",
    "\n",
    "print('Overall(avg) Accuracy:',np.average(accuracies))\n",
    "#Precision and Recall are meant to measure class specific performance, so averaging is not useful to us\n",
    "print('\\nClass\\tPrecision\\tRecall')\n",
    "for i in range(0, len(labels)):\n",
    "    print(\"%d:\\t%.2f%%\\t\\t%.2f%%\" % (labels[i], precisions[i]*100, recalls[i]*100))"
   ]
  },
  {
   "cell_type": "code",
   "execution_count": 237,
   "metadata": {
    "scrolled": true
   },
   "outputs": [
    {
     "name": "stdout",
     "output_type": "stream",
     "text": [
      "[0.        0.9996161 0.000015  0.0000002 0.0000019 0.        0.0000001\n",
      " 0.0003665 0.0000001 0.       ]\n",
      "Target value: 1\n"
     ]
    },
    {
     "data": {
      "image/png": "[encoded data removed]",
      "text/plain": [
       "<Figure size 432x288 with 1 Axes>"
      ]
     },
     "metadata": {
      "needs_background": "light"
     },
     "output_type": "display_data"
    }
   ],
   "source": [
    "#x_test, y_test\n",
    "\n",
    "def printDIGIT(data, target, index):\n",
    "    plt.imshow(data[index], cmap=plt.get_cmap('gray'))\n",
    "    print('Target value:', target[index])\n",
    "\n",
    "\n",
    "print(np.array_str(testResult[0], precision=7, suppress_small=True))\n",
    "printDIGIT(x_test, y_test, 0)"
   ]
  },
  {
   "cell_type": "code",
   "execution_count": 231,
   "metadata": {
    "scrolled": true
   },
   "outputs": [
    {
     "name": "stdout",
     "output_type": "stream",
     "text": [
      "[1 5 1 ... 1 4 8]\n",
      "[1 5 1 ... 1 4 8]\n"
     ]
    }
   ],
   "source": [
    "pred = np.argmax(testResult, axis=1)\n",
    "print(pred)\n",
    "print(y_test)\n",
    "\n",
    "different = []\n",
    "for i in range(0, len(y_test)):\n",
    "    if pred[i] != y_test[i]:\n",
    "        different.append(i)"
   ]
  },
  {
   "cell_type": "code",
   "execution_count": 318,
   "metadata": {
    "scrolled": true
   },
   "outputs": [
    {
     "name": "stdout",
     "output_type": "stream",
     "text": [
      "Accuracy: 0.9574\n",
      "Incorrectly classified numbers:  426\n",
      "Error found at index 652. Pred:8 Target:5\n",
      "Target value: 5\n"
     ]
    },
    {
     "data": {
      "image/png": "[encoded data removed]",
      "text/plain": [
       "<Figure size 432x288 with 1 Axes>"
      ]
     },
     "metadata": {
      "needs_background": "light"
     },
     "output_type": "display_data"
    }
   ],
   "source": [
    "print('Accuracy:', 1 - len(different)/len(y_test))\n",
    "print('Incorrectly classified numbers: ', len(different))\n",
    "errI = 20\n",
    "print(f\"Error found at index {different[errI]}. Pred:{pred[different[errI]]} Target:{y_test[different[errI]]}\")\n",
    "printDIGIT(x_test, y_test, different[errI])"
   ]
  },
  {
   "cell_type": "markdown",
   "metadata": {},
   "source": [
    "Additional References used:\n",
    "\n",
    "    *https://shiffdag.medium.com/what-is-accuracy-precision-and-recall-and-why-are-they-important-ebfcb5a10df2\n",
    "    *https://www.mage.ai/blog/definitive-guide-to-accuracy-precision-recall-for-product-developers\n",
    "    *https://towardsdatascience.com/precision-and-recall-88a3776c8007#:~:text=Precision%20is%20calculated%20by%20dividing,was%20predicted%20as%20a%20positive.&text=Recall%20(or%20True%20Positive%20Rate,have%20been%20predicted%20as%20positive."
   ]
  },
  {
   "cell_type": "code",
   "execution_count": null,
   "metadata": {},
   "outputs": [],
   "source": [
    "#Garbage heap\n",
    "''' Maybe try to print with labels at the end so as to not mess up the math??\n",
    "#Adding the class labels for clarity. -1 in the top left is NOT a class, just a blank space in the matrix.\n",
    "nclasses = 10\n",
    "confusionM = np.zeros((nclasses+1,nclasses+1))\n",
    "for i in range(0,nclasses+1):\n",
    "    confusionM[i][0] = i-1\n",
    "    confusionM[0][i] = i-1\n",
    "#Counting up predictions where row is the guess, column is the target\n",
    "#Since we included class labels, we push the indices of the targets + 1\n",
    "for i in range(0, len(predictions)):\n",
    "    confusionM[predictions[i]+1][y_test[i]+1] += 1'''"
   ]
  }
 ],
 "metadata": {
  "colab": {
   "provenance": []
  },
  "kernelspec": {
   "display_name": "Python 3 (ipykernel)",
   "language": "python",
   "name": "python3"
  },
  "language_info": {
   "codemirror_mode": {
    "name": "ipython",
    "version": 3
   },
   "file_extension": ".py",
   "mimetype": "text/x-python",
   "name": "python",
   "nbconvert_exporter": "python",
   "pygments_lexer": "ipython3",
   "version": "3.9.7"
  }
 },
 "nbformat": 4,
 "nbformat_minor": 1
}
