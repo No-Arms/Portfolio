{
 "cells": [
  {
   "cell_type": "markdown",
   "metadata": {},
   "source": [
    "Import data"
   ]
  },
  {
   "cell_type": "code",
   "execution_count": 3,
   "metadata": {},
   "outputs": [
    {
     "data": {
      "text/html": [
       "<div>\n",
       "<style scoped>\n",
       "    .dataframe tbody tr th:only-of-type {\n",
       "        vertical-align: middle;\n",
       "    }\n",
       "\n",
       "    .dataframe tbody tr th {\n",
       "        vertical-align: top;\n",
       "    }\n",
       "\n",
       "    .dataframe thead th {\n",
       "        text-align: right;\n",
       "    }\n",
       "</style>\n",
       "<table border=\"1\" class=\"dataframe\">\n",
       "  <thead>\n",
       "    <tr style=\"text-align: right;\">\n",
       "      <th></th>\n",
       "      <th>station_name</th>\n",
       "      <th>time</th>\n",
       "      <th>longitude</th>\n",
       "      <th>latitude</th>\n",
       "      <th>wind_spd_avg</th>\n",
       "      <th>wind_spd_max</th>\n",
       "      <th>wind_dir_avg</th>\n",
       "      <th>air_temp_avg</th>\n",
       "      <th>air_pressure_avg</th>\n",
       "      <th>air_humidity_avg</th>\n",
       "      <th>air_dewpoint_avg</th>\n",
       "      <th>surface_temp_avg</th>\n",
       "      <th>wave_ht_max</th>\n",
       "      <th>wave_ht_sig</th>\n",
       "      <th>wave_period_max</th>\n",
       "      <th>wave_dir_avg</th>\n",
       "      <th>wave_spread_avg</th>\n",
       "      <th>curr_spd_avg</th>\n",
       "      <th>curr_dir_avg</th>\n",
       "    </tr>\n",
       "  </thead>\n",
       "  <tbody>\n",
       "    <tr>\n",
       "      <th>0</th>\n",
       "      <td>NaN</td>\n",
       "      <td>UTC</td>\n",
       "      <td>degrees_east</td>\n",
       "      <td>degrees_north</td>\n",
       "      <td>m s-1</td>\n",
       "      <td>m s-1</td>\n",
       "      <td>degree</td>\n",
       "      <td>degree_C</td>\n",
       "      <td>mbar</td>\n",
       "      <td>1.0</td>\n",
       "      <td>degree_C</td>\n",
       "      <td>degree_C</td>\n",
       "      <td>m</td>\n",
       "      <td>m</td>\n",
       "      <td>s</td>\n",
       "      <td>degree</td>\n",
       "      <td>degree</td>\n",
       "      <td>mm s-1</td>\n",
       "      <td>degree</td>\n",
       "    </tr>\n",
       "    <tr>\n",
       "      <th>1</th>\n",
       "      <td>smb_fortune_bay</td>\n",
       "      <td>2019-06-26T17:23:41Z</td>\n",
       "      <td>-53.13566833</td>\n",
       "      <td>47.388615</td>\n",
       "      <td>0.7</td>\n",
       "      <td>1.8</td>\n",
       "      <td>21</td>\n",
       "      <td>45.2</td>\n",
       "      <td>1025.3</td>\n",
       "      <td>NaN</td>\n",
       "      <td>NaN</td>\n",
       "      <td>NaN</td>\n",
       "      <td>0.0</td>\n",
       "      <td>0.0</td>\n",
       "      <td>28.6</td>\n",
       "      <td>217</td>\n",
       "      <td>74</td>\n",
       "      <td>NaN</td>\n",
       "      <td>NaN</td>\n",
       "    </tr>\n",
       "    <tr>\n",
       "      <th>2</th>\n",
       "      <td>smb_fortune_bay</td>\n",
       "      <td>2019-06-26T17:53:41Z</td>\n",
       "      <td>-53.135645</td>\n",
       "      <td>47.38856667</td>\n",
       "      <td>1.1</td>\n",
       "      <td>3.4</td>\n",
       "      <td>36</td>\n",
       "      <td>43.8</td>\n",
       "      <td>1025.3</td>\n",
       "      <td>NaN</td>\n",
       "      <td>NaN</td>\n",
       "      <td>NaN</td>\n",
       "      <td>0.0</td>\n",
       "      <td>0.0</td>\n",
       "      <td>28.6</td>\n",
       "      <td>90</td>\n",
       "      <td>78</td>\n",
       "      <td>NaN</td>\n",
       "      <td>NaN</td>\n",
       "    </tr>\n",
       "    <tr>\n",
       "      <th>3</th>\n",
       "      <td>smb_fortune_bay</td>\n",
       "      <td>2019-06-26T18:23:41Z</td>\n",
       "      <td>-53.13560333</td>\n",
       "      <td>47.38860667</td>\n",
       "      <td>1.1</td>\n",
       "      <td>2.4</td>\n",
       "      <td>31</td>\n",
       "      <td>43.0</td>\n",
       "      <td>1025.5</td>\n",
       "      <td>NaN</td>\n",
       "      <td>NaN</td>\n",
       "      <td>14.9</td>\n",
       "      <td>0.0</td>\n",
       "      <td>0.0</td>\n",
       "      <td>28.6</td>\n",
       "      <td>195</td>\n",
       "      <td>75</td>\n",
       "      <td>2758.3</td>\n",
       "      <td>304.8</td>\n",
       "    </tr>\n",
       "    <tr>\n",
       "      <th>4</th>\n",
       "      <td>smb_fortune_bay</td>\n",
       "      <td>2019-06-26T18:53:41Z</td>\n",
       "      <td>-53.135645</td>\n",
       "      <td>47.38869667</td>\n",
       "      <td>1.2</td>\n",
       "      <td>2.7</td>\n",
       "      <td>38</td>\n",
       "      <td>47.8</td>\n",
       "      <td>1025.7</td>\n",
       "      <td>NaN</td>\n",
       "      <td>NaN</td>\n",
       "      <td>14.7</td>\n",
       "      <td>0.0</td>\n",
       "      <td>0.0</td>\n",
       "      <td>28.6</td>\n",
       "      <td>10</td>\n",
       "      <td>72</td>\n",
       "      <td>1638.3</td>\n",
       "      <td>307.3</td>\n",
       "    </tr>\n",
       "  </tbody>\n",
       "</table>\n",
       "</div>"
      ],
      "text/plain": [
       "      station_name                  time     longitude       latitude  \\\n",
       "0              NaN                   UTC  degrees_east  degrees_north   \n",
       "1  smb_fortune_bay  2019-06-26T17:23:41Z  -53.13566833      47.388615   \n",
       "2  smb_fortune_bay  2019-06-26T17:53:41Z    -53.135645    47.38856667   \n",
       "3  smb_fortune_bay  2019-06-26T18:23:41Z  -53.13560333    47.38860667   \n",
       "4  smb_fortune_bay  2019-06-26T18:53:41Z    -53.135645    47.38869667   \n",
       "\n",
       "  wind_spd_avg wind_spd_max wind_dir_avg air_temp_avg air_pressure_avg  \\\n",
       "0        m s-1        m s-1       degree     degree_C             mbar   \n",
       "1          0.7          1.8           21         45.2           1025.3   \n",
       "2          1.1          3.4           36         43.8           1025.3   \n",
       "3          1.1          2.4           31         43.0           1025.5   \n",
       "4          1.2          2.7           38         47.8           1025.7   \n",
       "\n",
       "   air_humidity_avg air_dewpoint_avg surface_temp_avg wave_ht_max wave_ht_sig  \\\n",
       "0               1.0         degree_C         degree_C           m           m   \n",
       "1               NaN              NaN              NaN         0.0         0.0   \n",
       "2               NaN              NaN              NaN         0.0         0.0   \n",
       "3               NaN              NaN             14.9         0.0         0.0   \n",
       "4               NaN              NaN             14.7         0.0         0.0   \n",
       "\n",
       "  wave_period_max wave_dir_avg wave_spread_avg curr_spd_avg curr_dir_avg  \n",
       "0               s       degree          degree       mm s-1       degree  \n",
       "1            28.6          217              74          NaN          NaN  \n",
       "2            28.6           90              78          NaN          NaN  \n",
       "3            28.6          195              75       2758.3        304.8  \n",
       "4            28.6           10              72       1638.3        307.3  "
      ]
     },
     "execution_count": 3,
     "metadata": {},
     "output_type": "execute_result"
    }
   ],
   "source": [
    "import pandas as pd\n",
    "\n",
    "fortune_bay_df = pd.read_csv(\"../Datasets/Fortune_Bay.csv\")\n",
    "fortune_bay_df.head()"
   ]
  },
  {
   "cell_type": "markdown",
   "metadata": {},
   "source": [
    "1. Handle Missing Values"
   ]
  },
  {
   "cell_type": "code",
   "execution_count": 6,
   "metadata": {},
   "outputs": [
    {
     "name": "stdout",
     "output_type": "stream",
     "text": [
      "station_name           1\n",
      "time                   0\n",
      "longitude           2141\n",
      "latitude            2141\n",
      "wind_spd_avg         126\n",
      "wind_spd_max         126\n",
      "wind_dir_avg         126\n",
      "air_temp_avg        4518\n",
      "air_pressure_avg     107\n",
      "air_humidity_avg    7394\n",
      "air_dewpoint_avg    7408\n",
      "surface_temp_avg    1526\n",
      "wave_ht_max          111\n",
      "wave_ht_sig          111\n",
      "wave_period_max      111\n",
      "wave_dir_avg         111\n",
      "wave_spread_avg      111\n",
      "curr_spd_avg        1532\n",
      "curr_dir_avg        1532\n",
      "dtype: int64\n"
     ]
    }
   ],
   "source": [
    "# N/A or missing values\n",
    "print(fortune_bay_df.isnull().sum())\n",
    "#fortune_bay_df.isna"
   ]
  },
  {
   "cell_type": "code",
   "execution_count": 8,
   "metadata": {},
   "outputs": [
    {
     "data": {
      "text/plain": [
       "array([nan, 'smb_fortune_bay'], dtype=object)"
      ]
     },
     "execution_count": 8,
     "metadata": {},
     "output_type": "execute_result"
    }
   ],
   "source": [
    "# Data is collected from a single buoy/sensor\n",
    "fortune_bay_df.station_name.unique()"
   ]
  },
  {
   "cell_type": "code",
   "execution_count": 14,
   "metadata": {},
   "outputs": [
    {
     "data": {
      "text/plain": [
       "'2019-06-26T17:23:41Z'"
      ]
     },
     "execution_count": 14,
     "metadata": {},
     "output_type": "execute_result"
    }
   ],
   "source": [
    "fortune_bay_df.iloc[1].time"
   ]
  },
  {
   "cell_type": "markdown",
   "metadata": {},
   "source": [
    "How to handle missing values?\n",
    "\n",
    "Of course an option is to delete the rows with missing values but in situations like this example, that would mean losing a lot of valuable data and reducing the reliability of our conclusions.\n",
    "\n",
    "A common solution is the fill them with the average (mean),\n",
    "middle (median) or most frequent (mode) value for that column. This method is an example of what is  called *Imputation* which is the process of replacing missing data with substituted values.\n",
    "\n",
    "Deciding how to handle missing values requires a bit of understanding the dataset and what could make the most sense to be there and introduce the least amount of bias.\n",
    "\n",
    "Since the data collected is from a single sensor, it's unlikely to have moved a large amount between measurements. The location values longitude and latitude can be set to their most frequent value (mode). \n",
    "\n",
    "Since our data is based on weather, the measurements are taken at 30 minute intervals so we can assume that a large change in conditions occuring is unlikely. This means we can set missing values of this type to the value immediately preceeding it.\n",
    "\n",
    "\n"
   ]
  },
  {
   "cell_type": "code",
   "execution_count": 43,
   "metadata": {},
   "outputs": [
    {
     "data": {
      "text/plain": [
       "longitude    0\n",
       "latitude     0\n",
       "dtype: int64"
      ]
     },
     "execution_count": 43,
     "metadata": {},
     "output_type": "execute_result"
    }
   ],
   "source": [
    "# Replace location values with mode\n",
    "fortune_bay_df['longitude'] = fortune_bay_df['longitude'].fillna(fortune_bay_df['longitude'].mode()[0])\n",
    "fortune_bay_df['latitude'] = fortune_bay_df['latitude'].fillna(fortune_bay_df['latitude'].mode()[0])\n",
    "fortune_bay_df[['longitude', 'latitude']].isnull().sum()"
   ]
  },
  {
   "cell_type": "code",
   "execution_count": 45,
   "metadata": {},
   "outputs": [],
   "source": [
    "# Replace the rest of the environment variables with the previous valid value\n",
    "# ffill: propagate last valid observation forward to next valid.\n",
    "fortune_bay_df = fortune_bay_df.fillna(method='ffill')"
   ]
  },
  {
   "cell_type": "code",
   "execution_count": 48,
   "metadata": {},
   "outputs": [
    {
     "name": "stdout",
     "output_type": "stream",
     "text": [
      "station_name        1\n",
      "time                0\n",
      "longitude           0\n",
      "latitude            0\n",
      "wind_spd_avg        0\n",
      "wind_spd_max        0\n",
      "wind_dir_avg        0\n",
      "air_temp_avg        0\n",
      "air_pressure_avg    0\n",
      "air_humidity_avg    0\n",
      "air_dewpoint_avg    0\n",
      "surface_temp_avg    0\n",
      "wave_ht_max         0\n",
      "wave_ht_sig         0\n",
      "wave_period_max     0\n",
      "wave_dir_avg        0\n",
      "wave_spread_avg     0\n",
      "curr_spd_avg        0\n",
      "curr_dir_avg        0\n",
      "dtype: int64\n"
     ]
    }
   ],
   "source": [
    "# Only value left is the first desc column\n",
    "print(fortune_bay_df.isnull().sum())"
   ]
  },
  {
   "cell_type": "code",
   "execution_count": 79,
   "metadata": {},
   "outputs": [
    {
     "data": {
      "text/html": [
       "<div>\n",
       "<style scoped>\n",
       "    .dataframe tbody tr th:only-of-type {\n",
       "        vertical-align: middle;\n",
       "    }\n",
       "\n",
       "    .dataframe tbody tr th {\n",
       "        vertical-align: top;\n",
       "    }\n",
       "\n",
       "    .dataframe thead th {\n",
       "        text-align: right;\n",
       "    }\n",
       "</style>\n",
       "<table border=\"1\" class=\"dataframe\">\n",
       "  <thead>\n",
       "    <tr style=\"text-align: right;\">\n",
       "      <th></th>\n",
       "      <th>station_name</th>\n",
       "      <th>time</th>\n",
       "      <th>longitude</th>\n",
       "      <th>latitude</th>\n",
       "      <th>wind_spd_avg</th>\n",
       "      <th>wind_spd_max</th>\n",
       "      <th>wind_dir_avg</th>\n",
       "      <th>air_temp_avg</th>\n",
       "      <th>air_pressure_avg</th>\n",
       "      <th>air_humidity_avg</th>\n",
       "      <th>air_dewpoint_avg</th>\n",
       "      <th>surface_temp_avg</th>\n",
       "      <th>wave_ht_max</th>\n",
       "      <th>wave_ht_sig</th>\n",
       "      <th>wave_period_max</th>\n",
       "      <th>wave_dir_avg</th>\n",
       "      <th>wave_spread_avg</th>\n",
       "      <th>curr_spd_avg</th>\n",
       "      <th>curr_dir_avg</th>\n",
       "    </tr>\n",
       "  </thead>\n",
       "  <tbody>\n",
       "    <tr>\n",
       "      <th>1</th>\n",
       "      <td>smb_fortune_bay</td>\n",
       "      <td>2019-06-26T17:23:41Z</td>\n",
       "      <td>-53.13566833</td>\n",
       "      <td>47.388615</td>\n",
       "      <td>0.7</td>\n",
       "      <td>1.8</td>\n",
       "      <td>21</td>\n",
       "      <td>45.2</td>\n",
       "      <td>1025.3</td>\n",
       "      <td>1.0</td>\n",
       "      <td>degree_C</td>\n",
       "      <td>degree_C</td>\n",
       "      <td>0.0</td>\n",
       "      <td>0.0</td>\n",
       "      <td>28.6</td>\n",
       "      <td>217</td>\n",
       "      <td>74</td>\n",
       "      <td>mm s-1</td>\n",
       "      <td>degree</td>\n",
       "    </tr>\n",
       "    <tr>\n",
       "      <th>2</th>\n",
       "      <td>smb_fortune_bay</td>\n",
       "      <td>2019-06-26T17:53:41Z</td>\n",
       "      <td>-53.135645</td>\n",
       "      <td>47.38856667</td>\n",
       "      <td>1.1</td>\n",
       "      <td>3.4</td>\n",
       "      <td>36</td>\n",
       "      <td>43.8</td>\n",
       "      <td>1025.3</td>\n",
       "      <td>1.0</td>\n",
       "      <td>degree_C</td>\n",
       "      <td>degree_C</td>\n",
       "      <td>0.0</td>\n",
       "      <td>0.0</td>\n",
       "      <td>28.6</td>\n",
       "      <td>90</td>\n",
       "      <td>78</td>\n",
       "      <td>mm s-1</td>\n",
       "      <td>degree</td>\n",
       "    </tr>\n",
       "    <tr>\n",
       "      <th>3</th>\n",
       "      <td>smb_fortune_bay</td>\n",
       "      <td>2019-06-26T18:23:41Z</td>\n",
       "      <td>-53.13560333</td>\n",
       "      <td>47.38860667</td>\n",
       "      <td>1.1</td>\n",
       "      <td>2.4</td>\n",
       "      <td>31</td>\n",
       "      <td>43.0</td>\n",
       "      <td>1025.5</td>\n",
       "      <td>1.0</td>\n",
       "      <td>degree_C</td>\n",
       "      <td>14.9</td>\n",
       "      <td>0.0</td>\n",
       "      <td>0.0</td>\n",
       "      <td>28.6</td>\n",
       "      <td>195</td>\n",
       "      <td>75</td>\n",
       "      <td>2758.3</td>\n",
       "      <td>304.8</td>\n",
       "    </tr>\n",
       "    <tr>\n",
       "      <th>4</th>\n",
       "      <td>smb_fortune_bay</td>\n",
       "      <td>2019-06-26T18:53:41Z</td>\n",
       "      <td>-53.135645</td>\n",
       "      <td>47.38869667</td>\n",
       "      <td>1.2</td>\n",
       "      <td>2.7</td>\n",
       "      <td>38</td>\n",
       "      <td>47.8</td>\n",
       "      <td>1025.7</td>\n",
       "      <td>1.0</td>\n",
       "      <td>degree_C</td>\n",
       "      <td>14.7</td>\n",
       "      <td>0.0</td>\n",
       "      <td>0.0</td>\n",
       "      <td>28.6</td>\n",
       "      <td>10</td>\n",
       "      <td>72</td>\n",
       "      <td>1638.3</td>\n",
       "      <td>307.3</td>\n",
       "    </tr>\n",
       "    <tr>\n",
       "      <th>5</th>\n",
       "      <td>smb_fortune_bay</td>\n",
       "      <td>2019-06-26T19:23:41Z</td>\n",
       "      <td>-53.13563667</td>\n",
       "      <td>47.38868</td>\n",
       "      <td>0.8</td>\n",
       "      <td>2.0</td>\n",
       "      <td>29</td>\n",
       "      <td>45.8</td>\n",
       "      <td>1025.7</td>\n",
       "      <td>1.0</td>\n",
       "      <td>degree_C</td>\n",
       "      <td>14.5</td>\n",
       "      <td>0.0</td>\n",
       "      <td>0.0</td>\n",
       "      <td>28.6</td>\n",
       "      <td>52</td>\n",
       "      <td>72</td>\n",
       "      <td>2228.3</td>\n",
       "      <td>316.4</td>\n",
       "    </tr>\n",
       "  </tbody>\n",
       "</table>\n",
       "</div>"
      ],
      "text/plain": [
       "      station_name                  time     longitude     latitude  \\\n",
       "1  smb_fortune_bay  2019-06-26T17:23:41Z  -53.13566833    47.388615   \n",
       "2  smb_fortune_bay  2019-06-26T17:53:41Z    -53.135645  47.38856667   \n",
       "3  smb_fortune_bay  2019-06-26T18:23:41Z  -53.13560333  47.38860667   \n",
       "4  smb_fortune_bay  2019-06-26T18:53:41Z    -53.135645  47.38869667   \n",
       "5  smb_fortune_bay  2019-06-26T19:23:41Z  -53.13563667     47.38868   \n",
       "\n",
       "  wind_spd_avg wind_spd_max wind_dir_avg air_temp_avg air_pressure_avg  \\\n",
       "1          0.7          1.8           21         45.2           1025.3   \n",
       "2          1.1          3.4           36         43.8           1025.3   \n",
       "3          1.1          2.4           31         43.0           1025.5   \n",
       "4          1.2          2.7           38         47.8           1025.7   \n",
       "5          0.8          2.0           29         45.8           1025.7   \n",
       "\n",
       "   air_humidity_avg air_dewpoint_avg surface_temp_avg wave_ht_max wave_ht_sig  \\\n",
       "1               1.0         degree_C         degree_C         0.0         0.0   \n",
       "2               1.0         degree_C         degree_C         0.0         0.0   \n",
       "3               1.0         degree_C             14.9         0.0         0.0   \n",
       "4               1.0         degree_C             14.7         0.0         0.0   \n",
       "5               1.0         degree_C             14.5         0.0         0.0   \n",
       "\n",
       "  wave_period_max wave_dir_avg wave_spread_avg curr_spd_avg curr_dir_avg  \n",
       "1            28.6          217              74       mm s-1       degree  \n",
       "2            28.6           90              78       mm s-1       degree  \n",
       "3            28.6          195              75       2758.3        304.8  \n",
       "4            28.6           10              72       1638.3        307.3  \n",
       "5            28.6           52              72       2228.3        316.4  "
      ]
     },
     "execution_count": 79,
     "metadata": {},
     "output_type": "execute_result"
    }
   ],
   "source": [
    "desc_row = fortune_bay_df.iloc[0]\n",
    "fortune_bay_df = fortune_bay_df.iloc[1:]\n",
    "fortune_bay_df.head()"
   ]
  },
  {
   "cell_type": "markdown",
   "metadata": {},
   "source": [
    "2. Handle Outliers"
   ]
  },
  {
   "cell_type": "code",
   "execution_count": 68,
   "metadata": {},
   "outputs": [
    {
     "name": "stdout",
     "output_type": "stream",
     "text": [
      "19\n",
      "1        19\n",
      "2        19\n",
      "3        19\n",
      "4        19\n",
      "5        19\n",
      "         ..\n",
      "13854    19\n",
      "13855    19\n",
      "13856    19\n",
      "13857    19\n",
      "13858    19\n",
      "Length: 13858, dtype: int64\n"
     ]
    }
   ],
   "source": [
    "print(len(fortune_bay_df.columns))\n",
    "print(fortune_bay_df.iloc[1:].count(axis='columns'))"
   ]
  },
  {
   "cell_type": "code",
   "execution_count": 80,
   "metadata": {},
   "outputs": [
    {
     "data": {
      "image/png": "[encoded data removed]",
      "text/plain": [
       "<Figure size 640x480 with 1 Axes>"
      ]
     },
     "metadata": {},
     "output_type": "display_data"
    }
   ],
   "source": [
    "fortune_bay_df[1:].hist()\n",
    "plt.show()"
   ]
  },
  {
   "cell_type": "code",
   "execution_count": 88,
   "metadata": {},
   "outputs": [
    {
     "data": {
      "text/plain": [
       "0"
      ]
     },
     "execution_count": 88,
     "metadata": {},
     "output_type": "execute_result"
    }
   ],
   "source": [
    "fortune_bay_df['air_temp_avg'].hist()"
   ]
  },
  {
   "cell_type": "code",
   "execution_count": 70,
   "metadata": {},
   "outputs": [
    {
     "ename": "ValueError",
     "evalue": "The number of passed axes must be 1, the same as the output plot",
     "output_type": "error",
     "traceback": [
      "\u001b[1;31m---------------------------------------------------------------------------\u001b[0m",
      "\u001b[1;31mValueError\u001b[0m                                Traceback (most recent call last)",
      "Cell \u001b[1;32mIn[70], line 7\u001b[0m\n\u001b[0;32m      4\u001b[0m rows \u001b[38;5;241m=\u001b[39m columns \u001b[38;5;241m/\u001b[39m\u001b[38;5;241m/\u001b[39m \u001b[38;5;241m3\u001b[39m\n\u001b[0;32m      6\u001b[0m fig, axis \u001b[38;5;241m=\u001b[39m plt\u001b[38;5;241m.\u001b[39msubplots(rows, columns)\n\u001b[1;32m----> 7\u001b[0m \u001b[43mfortune_bay_df\u001b[49m\u001b[38;5;241;43m.\u001b[39;49m\u001b[43miloc\u001b[49m\u001b[43m[\u001b[49m\u001b[38;5;241;43m1\u001b[39;49m\u001b[43m:\u001b[49m\u001b[43m]\u001b[49m\u001b[38;5;241;43m.\u001b[39;49m\u001b[43mhist\u001b[49m\u001b[43m(\u001b[49m\u001b[43max\u001b[49m\u001b[38;5;241;43m=\u001b[39;49m\u001b[43maxis\u001b[49m\u001b[43m)\u001b[49m\n",
      "File \u001b[1;32mc:\\Users\\noah_\\anaconda3\\envs\\MLOps38\\lib\\site-packages\\pandas\\plotting\\_core.py:223\u001b[0m, in \u001b[0;36mhist_frame\u001b[1;34m(data, column, by, grid, xlabelsize, xrot, ylabelsize, yrot, ax, sharex, sharey, figsize, layout, bins, backend, legend, **kwargs)\u001b[0m\n\u001b[0;32m    134\u001b[0m \u001b[38;5;250m\u001b[39m\u001b[38;5;124;03m\"\"\"\u001b[39;00m\n\u001b[0;32m    135\u001b[0m \u001b[38;5;124;03mMake a histogram of the DataFrame's columns.\u001b[39;00m\n\u001b[0;32m    136\u001b[0m \n\u001b[1;32m   (...)\u001b[0m\n\u001b[0;32m    220\u001b[0m \u001b[38;5;124;03m    >>> hist = df.hist(bins=3)\u001b[39;00m\n\u001b[0;32m    221\u001b[0m \u001b[38;5;124;03m\"\"\"\u001b[39;00m\n\u001b[0;32m    222\u001b[0m plot_backend \u001b[38;5;241m=\u001b[39m _get_plot_backend(backend)\n\u001b[1;32m--> 223\u001b[0m \u001b[38;5;28;01mreturn\u001b[39;00m \u001b[43mplot_backend\u001b[49m\u001b[38;5;241;43m.\u001b[39;49m\u001b[43mhist_frame\u001b[49m\u001b[43m(\u001b[49m\n\u001b[0;32m    224\u001b[0m \u001b[43m    \u001b[49m\u001b[43mdata\u001b[49m\u001b[43m,\u001b[49m\n\u001b[0;32m    225\u001b[0m \u001b[43m    \u001b[49m\u001b[43mcolumn\u001b[49m\u001b[38;5;241;43m=\u001b[39;49m\u001b[43mcolumn\u001b[49m\u001b[43m,\u001b[49m\n\u001b[0;32m    226\u001b[0m \u001b[43m    \u001b[49m\u001b[43mby\u001b[49m\u001b[38;5;241;43m=\u001b[39;49m\u001b[43mby\u001b[49m\u001b[43m,\u001b[49m\n\u001b[0;32m    227\u001b[0m \u001b[43m    \u001b[49m\u001b[43mgrid\u001b[49m\u001b[38;5;241;43m=\u001b[39;49m\u001b[43mgrid\u001b[49m\u001b[43m,\u001b[49m\n\u001b[0;32m    228\u001b[0m \u001b[43m    \u001b[49m\u001b[43mxlabelsize\u001b[49m\u001b[38;5;241;43m=\u001b[39;49m\u001b[43mxlabelsize\u001b[49m\u001b[43m,\u001b[49m\n\u001b[0;32m    229\u001b[0m \u001b[43m    \u001b[49m\u001b[43mxrot\u001b[49m\u001b[38;5;241;43m=\u001b[39;49m\u001b[43mxrot\u001b[49m\u001b[43m,\u001b[49m\n\u001b[0;32m    230\u001b[0m \u001b[43m    \u001b[49m\u001b[43mylabelsize\u001b[49m\u001b[38;5;241;43m=\u001b[39;49m\u001b[43mylabelsize\u001b[49m\u001b[43m,\u001b[49m\n\u001b[0;32m    231\u001b[0m \u001b[43m    \u001b[49m\u001b[43myrot\u001b[49m\u001b[38;5;241;43m=\u001b[39;49m\u001b[43myrot\u001b[49m\u001b[43m,\u001b[49m\n\u001b[0;32m    232\u001b[0m \u001b[43m    \u001b[49m\u001b[43max\u001b[49m\u001b[38;5;241;43m=\u001b[39;49m\u001b[43max\u001b[49m\u001b[43m,\u001b[49m\n\u001b[0;32m    233\u001b[0m \u001b[43m    \u001b[49m\u001b[43msharex\u001b[49m\u001b[38;5;241;43m=\u001b[39;49m\u001b[43msharex\u001b[49m\u001b[43m,\u001b[49m\n\u001b[0;32m    234\u001b[0m \u001b[43m    \u001b[49m\u001b[43msharey\u001b[49m\u001b[38;5;241;43m=\u001b[39;49m\u001b[43msharey\u001b[49m\u001b[43m,\u001b[49m\n\u001b[0;32m    235\u001b[0m \u001b[43m    \u001b[49m\u001b[43mfigsize\u001b[49m\u001b[38;5;241;43m=\u001b[39;49m\u001b[43mfigsize\u001b[49m\u001b[43m,\u001b[49m\n\u001b[0;32m    236\u001b[0m \u001b[43m    \u001b[49m\u001b[43mlayout\u001b[49m\u001b[38;5;241;43m=\u001b[39;49m\u001b[43mlayout\u001b[49m\u001b[43m,\u001b[49m\n\u001b[0;32m    237\u001b[0m \u001b[43m    \u001b[49m\u001b[43mlegend\u001b[49m\u001b[38;5;241;43m=\u001b[39;49m\u001b[43mlegend\u001b[49m\u001b[43m,\u001b[49m\n\u001b[0;32m    238\u001b[0m \u001b[43m    \u001b[49m\u001b[43mbins\u001b[49m\u001b[38;5;241;43m=\u001b[39;49m\u001b[43mbins\u001b[49m\u001b[43m,\u001b[49m\n\u001b[0;32m    239\u001b[0m \u001b[43m    \u001b[49m\u001b[38;5;241;43m*\u001b[39;49m\u001b[38;5;241;43m*\u001b[39;49m\u001b[43mkwargs\u001b[49m\u001b[43m,\u001b[49m\n\u001b[0;32m    240\u001b[0m \u001b[43m\u001b[49m\u001b[43m)\u001b[49m\n",
      "File \u001b[1;32mc:\\Users\\noah_\\anaconda3\\envs\\MLOps38\\lib\\site-packages\\pandas\\plotting\\_matplotlib\\hist.py:518\u001b[0m, in \u001b[0;36mhist_frame\u001b[1;34m(data, column, by, grid, xlabelsize, xrot, ylabelsize, yrot, ax, sharex, sharey, figsize, layout, bins, legend, **kwds)\u001b[0m\n\u001b[0;32m    513\u001b[0m \u001b[38;5;28;01mif\u001b[39;00m naxes \u001b[38;5;241m==\u001b[39m \u001b[38;5;241m0\u001b[39m:\n\u001b[0;32m    514\u001b[0m     \u001b[38;5;28;01mraise\u001b[39;00m \u001b[38;5;167;01mValueError\u001b[39;00m(\n\u001b[0;32m    515\u001b[0m         \u001b[38;5;124m\"\u001b[39m\u001b[38;5;124mhist method requires numerical or datetime columns, nothing to plot.\u001b[39m\u001b[38;5;124m\"\u001b[39m\n\u001b[0;32m    516\u001b[0m     )\n\u001b[1;32m--> 518\u001b[0m fig, axes \u001b[38;5;241m=\u001b[39m \u001b[43mcreate_subplots\u001b[49m\u001b[43m(\u001b[49m\n\u001b[0;32m    519\u001b[0m \u001b[43m    \u001b[49m\u001b[43mnaxes\u001b[49m\u001b[38;5;241;43m=\u001b[39;49m\u001b[43mnaxes\u001b[49m\u001b[43m,\u001b[49m\n\u001b[0;32m    520\u001b[0m \u001b[43m    \u001b[49m\u001b[43max\u001b[49m\u001b[38;5;241;43m=\u001b[39;49m\u001b[43max\u001b[49m\u001b[43m,\u001b[49m\n\u001b[0;32m    521\u001b[0m \u001b[43m    \u001b[49m\u001b[43msqueeze\u001b[49m\u001b[38;5;241;43m=\u001b[39;49m\u001b[38;5;28;43;01mFalse\u001b[39;49;00m\u001b[43m,\u001b[49m\n\u001b[0;32m    522\u001b[0m \u001b[43m    \u001b[49m\u001b[43msharex\u001b[49m\u001b[38;5;241;43m=\u001b[39;49m\u001b[43msharex\u001b[49m\u001b[43m,\u001b[49m\n\u001b[0;32m    523\u001b[0m \u001b[43m    \u001b[49m\u001b[43msharey\u001b[49m\u001b[38;5;241;43m=\u001b[39;49m\u001b[43msharey\u001b[49m\u001b[43m,\u001b[49m\n\u001b[0;32m    524\u001b[0m \u001b[43m    \u001b[49m\u001b[43mfigsize\u001b[49m\u001b[38;5;241;43m=\u001b[39;49m\u001b[43mfigsize\u001b[49m\u001b[43m,\u001b[49m\n\u001b[0;32m    525\u001b[0m \u001b[43m    \u001b[49m\u001b[43mlayout\u001b[49m\u001b[38;5;241;43m=\u001b[39;49m\u001b[43mlayout\u001b[49m\u001b[43m,\u001b[49m\n\u001b[0;32m    526\u001b[0m \u001b[43m\u001b[49m\u001b[43m)\u001b[49m\n\u001b[0;32m    527\u001b[0m _axes \u001b[38;5;241m=\u001b[39m flatten_axes(axes)\n\u001b[0;32m    529\u001b[0m can_set_label \u001b[38;5;241m=\u001b[39m \u001b[38;5;124m\"\u001b[39m\u001b[38;5;124mlabel\u001b[39m\u001b[38;5;124m\"\u001b[39m \u001b[38;5;129;01mnot\u001b[39;00m \u001b[38;5;129;01min\u001b[39;00m kwds\n",
      "File \u001b[1;32mc:\\Users\\noah_\\anaconda3\\envs\\MLOps38\\lib\\site-packages\\pandas\\plotting\\_matplotlib\\tools.py:246\u001b[0m, in \u001b[0;36mcreate_subplots\u001b[1;34m(naxes, sharex, sharey, squeeze, subplot_kw, ax, layout, layout_type, **fig_kw)\u001b[0m\n\u001b[0;32m    244\u001b[0m         \u001b[38;5;28;01mreturn\u001b[39;00m fig, ax\n\u001b[0;32m    245\u001b[0m     \u001b[38;5;28;01melse\u001b[39;00m:\n\u001b[1;32m--> 246\u001b[0m         \u001b[38;5;28;01mraise\u001b[39;00m \u001b[38;5;167;01mValueError\u001b[39;00m(\n\u001b[0;32m    247\u001b[0m             \u001b[38;5;124mf\u001b[39m\u001b[38;5;124m\"\u001b[39m\u001b[38;5;124mThe number of passed axes must be \u001b[39m\u001b[38;5;132;01m{\u001b[39;00mnaxes\u001b[38;5;132;01m}\u001b[39;00m\u001b[38;5;124m, the \u001b[39m\u001b[38;5;124m\"\u001b[39m\n\u001b[0;32m    248\u001b[0m             \u001b[38;5;124m\"\u001b[39m\u001b[38;5;124msame as the output plot\u001b[39m\u001b[38;5;124m\"\u001b[39m\n\u001b[0;32m    249\u001b[0m         )\n\u001b[0;32m    251\u001b[0m fig \u001b[38;5;241m=\u001b[39m ax\u001b[38;5;241m.\u001b[39mget_figure()\n\u001b[0;32m    252\u001b[0m \u001b[38;5;66;03m# if ax is passed and a number of subplots is 1, return ax as it is\u001b[39;00m\n",
      "\u001b[1;31mValueError\u001b[0m: The number of passed axes must be 1, the same as the output plot"
     ]
    },
    {
     "data": {
      "image/png": "[encoded data removed]",
      "text/plain": [
       "<Figure size 640x480 with 114 Axes>"
      ]
     },
     "metadata": {},
     "output_type": "display_data"
    }
   ],
   "source": [
    "import matplotlib.pyplot as plt\n",
    "# Checking the distribution of data using histograms\n",
    "columns = len(fortune_bay_df.columns)\n",
    "rows = columns // 3\n",
    "\n",
    "fig, axis = plt.subplots(rows, columns)\n",
    "fortune_bay_df.iloc[1:].hist(ax=axis)"
   ]
  },
  {
   "cell_type": "markdown",
   "metadata": {},
   "source": [
    "3. Feature Extraction"
   ]
  },
  {
   "cell_type": "code",
   "execution_count": null,
   "metadata": {},
   "outputs": [],
   "source": []
  },
  {
   "cell_type": "markdown",
   "metadata": {},
   "source": [
    "4. Feature Selection"
   ]
  },
  {
   "cell_type": "code",
   "execution_count": null,
   "metadata": {},
   "outputs": [],
   "source": []
  }
 ],
 "metadata": {
  "kernelspec": {
   "display_name": "MLOps38",
   "language": "python",
   "name": "python3"
  },
  "language_info": {
   "codemirror_mode": {
    "name": "ipython",
    "version": 3
   },
   "file_extension": ".py",
   "mimetype": "text/x-python",
   "name": "python",
   "nbconvert_exporter": "python",
   "pygments_lexer": "ipython3",
   "version": "3.8.18"
  }
 },
 "nbformat": 4,
 "nbformat_minor": 2
}
